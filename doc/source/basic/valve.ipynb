{
  "cells": [
    {
      "cell_type": "code",
      "execution_count": null,
      "metadata": {
        "collapsed": false
      },
      "outputs": [],
      "source": [
        "%matplotlib inline"
      ]
    },
    {
      "cell_type": "markdown",
      "metadata": {},
      "source": [
        "\nCreated on Thu Jan 12 17:06:18 2023\n\n@author: pmaroneh\n"
      ]
    },
    {
      "cell_type": "code",
      "execution_count": null,
      "metadata": {
        "collapsed": false
      },
      "outputs": [],
      "source": [
        "import os\n\nimport ansys.mechanical.core as mech\nfrom ansys.mechanical.core.examples import download_file, delete_downloads\n\napp = mech.App(version=232) # starts a non-graphical Mechanical session within the python.exe\nglobals().update(mech.global_variables(app)) # update global variables to get access to the same Model, DataModel, etc variables as in the Mechanical scripting console\u200b\nprint(app)\n\ngeometry_path = download_file(\"Valve.pmdb\", \"pymechanical\", \"embedding\")\nanalysis = Model.AddStaticStructuralAnalysis()\n\ncwd = os.path.join(os.getcwd(), \"out\")\n\n# Configure graphics for image export\nExtAPI.Graphics.Camera.SetSpecificViewOrientation(Ansys.Mechanical.DataModel.Enums.ViewOrientationType.Iso)\nExtAPI.Graphics.Camera.SetFit()\nimage_export_format = Ansys.Mechanical.DataModel.Enums.GraphicsImageExportFormat.PNG\nsettings_720p = Ansys.Mechanical.Graphics.GraphicsImageExportSettings()\nsettings_720p.Resolution = Ansys.Mechanical.DataModel.Enums.GraphicsResolutionType.EnhancedResolution\nsettings_720p.Background = Ansys.Mechanical.DataModel.Enums.GraphicsBackgroundType.White\nsettings_720p.Width = 1280\nsettings_720p.Capture =  Ansys.Mechanical.DataModel.Enums.GraphicsCaptureType.ImageOnly\nsettings_720p.Height = 720\nsettings_720p.CurrentGraphicsDisplay = False\n\n# Import geometry\ngeometry_file = geometry_path\ngeometry_import = Model.GeometryImportGroup.AddGeometryImport()\ngeometry_import_format = Ansys.Mechanical.DataModel.Enums.GeometryImportPreference.Format.Automatic\ngeometry_import_preferences = Ansys.ACT.Mechanical.Utilities.GeometryImportPreferences()\ngeometry_import_preferences.ProcessNamedSelections = True\ngeometry_import.Import(geometry_file, geometry_import_format, geometry_import_preferences)\n\nExtAPI.Graphics.ExportImage(os.path.join(cwd, \"geometry.png\"), image_export_format, settings_720p)\n\n# Assign materials\nmaterial_assignment = Model.Materials.AddMaterialAssignment()\nmaterial_assignment.Material = \"Structural Steel\"\nsel = ExtAPI.SelectionManager.CreateSelectionInfo(Ansys.ACT.Interfaces.Common.SelectionTypeEnum.GeometryEntities)\nsel.Ids = [body.GetGeoBody().Id for body in Model.Geometry.GetChildren(Ansys.Mechanical.DataModel.Enums.DataModelObjectCategory.Body, True)]\nmaterial_assignment.Location = sel\n\n# Define mesh settings,  generate mesh\nmesh = Model.Mesh\nmesh.ElementSize = Quantity(25,  \"mm\")\nmesh.GenerateMesh()\nTree.Activate([mesh])\nExtAPI.Graphics.ExportImage(os.path.join(cwd, \"mesh.png\"), image_export_format, settings_720p)\n\n# Define boundary conditions\n\nfixed_support = analysis.AddFixedSupport()\nfixed_support.Location = ExtAPI.DataModel.GetObjectsByName(\"NSFixedSupportFaces\")[0]\n\nfrictionless_support = analysis.AddFrictionlessSupport()\nfrictionless_support.Location = ExtAPI.DataModel.GetObjectsByName(\"NSFrictionlessSupportFaces\")[0]\n\npressure = analysis.AddPressure()\npressure.Location = ExtAPI.DataModel.GetObjectsByName(\"NSInsideFaces\")[0]\n\npressure.Magnitude.Inputs[0].DiscreteValues = [Quantity(\"0 [s]\"), Quantity(\"1 [s]\")]\npressure.Magnitude.Output.DiscreteValues = [Quantity(\"0 [Pa]\"), Quantity(\"15 [MPa]\")]\n\n# Solve model\nModel.Solve()\n\n# Evaluate results, export screenshots\nsolution = analysis.Solution\ndeformation = solution.AddTotalDeformation()\nstress = solution.AddEquivalentStress()\nsolution.EvaluateAllResults()\n\nTree.Activate([deformation])\nExtAPI.Graphics.ExportImage(os.path.join(cwd, \"deformation.png\"), image_export_format, settings_720p)\nTree.Activate([stress])\nExtAPI.Graphics.ExportImage(os.path.join(cwd, \"stress.png\"), image_export_format, settings_720p)\n\n# Export stress animation\nanimation_export_format = Ansys.Mechanical.DataModel.Enums.GraphicsAnimationExportFormat.MP4\nsettings_720p = Ansys.Mechanical.Graphics.AnimationExportSettings()\nsettings_720p.Width = 1280\nsettings_720p.Height = 720\n\nstress.ExportAnimation(os.path.join(cwd, \"Valve.mp4\"), animation_export_format, settings_720p)\n\n# Save project\napp.save(os.path.join(cwd, \"Valve.mechdat\"))\napp.new()\n\n# delete example file\ndelete_downloads()"
      ]
    }
  ],
  "metadata": {
    "kernelspec": {
      "display_name": "Python 3",
      "language": "python",
      "name": "python3"
    },
    "language_info": {
      "codemirror_mode": {
        "name": "ipython",
        "version": 3
      },
      "file_extension": ".py",
      "mimetype": "text/x-python",
      "name": "python",
      "nbconvert_exporter": "python",
      "pygments_lexer": "ipython3",
      "version": "3.9.4"
    }
  },
  "nbformat": 4,
  "nbformat_minor": 0
}