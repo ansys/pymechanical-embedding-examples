{
  "cells": [
    {
      "cell_type": "markdown",
      "metadata": {},
      "source": [
        "\n# Inverse-Solving analysis of a rotor fan blade with disk\n\nThis example demonstrates the inverse-solving analysis of a rotor fan blade with disk.\nThe NASA Rotor 67 fan bladed disk is a subsystem of a turbo fan's compressor set used\nin aerospace engine applications. This sector model, representing a challenging industrial\nexample for which the detailed geometry and flow information is available in the public\ndomain, consists of a disk and a fan blade with a sector angle of 16.364 degrees.\nThe sector model represents the running condition or hot geometry of the blade. It is\nalready optimized at the running condition under loading. The primary objective is to\nobtain the cold geometry (for manufacturing) from the given hot geometry using inverse solving.\n\n- ELEMENTS: SOLID186\n- MATERIAL: Elastic Material\n- CONTACT:  MPC bonded contact pair\n\nTo highlight Mechanical APDL inverse-solving technology, this example problem does not\ninvolve a cyclic symmetry analysis.\n\n**Material Properties:**\n\n+------------+--------+----------------+----------------+---------------------------+\n| Temperature| Density| Young's Modulus| Poisson's Ratio| Coeff of Thermal Expansion|\n+============+========+================+================+===========================+\n| 22 deg C   | 7840   | 2.2e11 Pa      | 0.27           | 1.2e-5                    |\n+------------+--------+----------------+----------------+---------------------------+\n| 200 deg C  | 7740   | 2e11 Pa        | 0.28           | 1.3e-5                    |\n+------------+--------+----------------+----------------+---------------------------+\n| 300 deg C  | 7640   | 1.9e11 Pa      | 0.29           | 1.4e-5                    |\n+------------+--------+----------------+----------------+---------------------------+\n| 600 deg C  | 7540   | 1.8e11 Pa      | 0.30           | 1.5e-5                    |\n+------------+--------+----------------+----------------+---------------------------+\n\n\n**Following loads are considered:**\n\nThe rotational velocity (CGOMGA,0,0,1680) is applied along the global Z axis. The reference\ntemperature is maintained at 22\u00b0C, and the temperature loading is applied on the blade (BF)\n\n**Expected results:**\n\nInverse-Solving Analysis: A nonlinear static analysis using inverse solving\n(INVOPT,ON) is performed on the hot geometry of the model to obtain the cold geometry\n(for manufacturing) and the stress/strain results on the hot geometry.\n"
      ]
    },
    {
      "cell_type": "markdown",
      "metadata": {},
      "source": [
        "## Import the necessary libraries\n\n"
      ]
    },
    {
      "cell_type": "code",
      "execution_count": null,
      "metadata": {
        "collapsed": false
      },
      "outputs": [],
      "source": [
        "from pathlib import Path\nfrom typing import TYPE_CHECKING\n\nfrom ansys.mechanical.core import App\nfrom ansys.mechanical.core.examples import delete_downloads, download_file\nfrom matplotlib import image as mpimg\nfrom matplotlib import pyplot as plt\n\nif TYPE_CHECKING:\n    import Ansys"
      ]
    },
    {
      "cell_type": "markdown",
      "metadata": {},
      "source": [
        "## Initialize the embedded application\n\n"
      ]
    },
    {
      "cell_type": "code",
      "execution_count": null,
      "metadata": {
        "collapsed": false
      },
      "outputs": [],
      "source": [
        "app = App(globals=globals())\nprint(app)"
      ]
    },
    {
      "cell_type": "markdown",
      "metadata": {},
      "source": [
        "## Create functions to set camera and display images\n\n"
      ]
    },
    {
      "cell_type": "code",
      "execution_count": null,
      "metadata": {
        "collapsed": false
      },
      "outputs": [],
      "source": [
        "# Set the path for the output files (images, gifs, mechdat)\noutput_path = Path.cwd() / \"out\"\n\n\ndef set_camera_and_display_image(\n    camera,\n    graphics,\n    graphics_image_export_settings,\n    image_output_path: Path,\n    image_name: str,\n) -> None:\n    \"\"\"Set the camera to fit the model and display the image.\n\n    Parameters\n    ----------\n    camera : Ansys.ACT.Common.Graphics.MechanicalCameraWrapper\n        The camera object to set the view.\n    graphics : Ansys.ACT.Common.Graphics.MechanicalGraphicsWrapper\n        The graphics object to export the image.\n    graphics_image_export_settings : Ansys.Mechanical.Graphics.GraphicsImageExportSettings\n        The settings for exporting the image.\n    image_output_path : Path\n        The path to save the exported image.\n    image_name : str\n        The name of the exported image file.\n    \"\"\"\n    # Set the camera to fit the mesh\n    camera.SetFit()\n    # Export the mesh image with the specified settings\n    image_path = image_output_path / image_name\n    graphics.ExportImage(\n        str(image_path), image_export_format, graphics_image_export_settings\n    )\n    # Display the exported mesh image\n    display_image(image_path)\n\n\ndef display_image(\n    image_path: str,\n    pyplot_figsize_coordinates: tuple = (16, 9),\n    plot_xticks: list = [],\n    plot_yticks: list = [],\n    plot_axis: str = \"off\",\n) -> None:\n    \"\"\"Display the image with the specified parameters.\n\n    Parameters\n    ----------\n    image_path : str\n        The path to the image file to display.\n    pyplot_figsize_coordinates : tuple\n        The size of the figure in inches (width, height).\n    plot_xticks : list\n        The x-ticks to display on the plot.\n    plot_yticks : list\n        The y-ticks to display on the plot.\n    plot_axis : str\n        The axis visibility setting ('on' or 'off').\n    \"\"\"\n    # Set the figure size based on the coordinates specified\n    plt.figure(figsize=pyplot_figsize_coordinates)\n    # Read the image from the file into an array\n    plt.imshow(mpimg.imread(image_path))\n    # Get or set the current tick locations and labels of the x-axis\n    plt.xticks(plot_xticks)\n    # Get or set the current tick locations and labels of the y-axis\n    plt.yticks(plot_yticks)\n    # Turn off the axis\n    plt.axis(plot_axis)\n    # Display the figure\n    plt.show()"
      ]
    },
    {
      "cell_type": "markdown",
      "metadata": {},
      "source": [
        "## Download the required files\n\n"
      ]
    },
    {
      "cell_type": "code",
      "execution_count": null,
      "metadata": {
        "collapsed": false
      },
      "outputs": [],
      "source": [
        "# Download the geometry file\ngeometry_path = download_file(\n    \"example_10_td_055_Rotor_Blade_Geom.pmdb\", \"pymechanical\", \"embedding\"\n)\n\n# Download the material file\nmat_path = download_file(\n    \"example_10_td_055_Rotor_Blade_Mat_File.xml\", \"pymechanical\", \"embedding\"\n)\n\n# Download the CFX pressure data\ncfx_data_path = download_file(\n    \"example_10_CFX_ExportResults_FT_10P_EO2.csv\", \"pymechanical\", \"embedding\"\n)\n\n# Download the temperature data file\ntemp_data_path = download_file(\n    \"example_10_Temperature_Data.txt\", \"pymechanical\", \"embedding\"\n)"
      ]
    },
    {
      "cell_type": "markdown",
      "metadata": {},
      "source": [
        "## Configure graphics for image export\n\n"
      ]
    },
    {
      "cell_type": "code",
      "execution_count": null,
      "metadata": {
        "collapsed": false
      },
      "outputs": [],
      "source": [
        "# Define the graphics and camera\ngraphics = app.Graphics\ncamera = graphics.Camera\n\n# Set the camera orientation to the isometric view and set the camera to fit the model\ncamera.SetSpecificViewOrientation(ViewOrientationType.Iso)\ncamera.SetFit()\n\n# Set the image export format and settings\nimage_export_format = GraphicsImageExportFormat.PNG\nsettings_720p = Ansys.Mechanical.Graphics.GraphicsImageExportSettings()\nsettings_720p.Resolution = (\n    Ansys.Mechanical.DataModel.Enums.GraphicsResolutionType.EnhancedResolution\n)\nsettings_720p.Background = Ansys.Mechanical.DataModel.Enums.GraphicsBackgroundType.White\nsettings_720p.Width = 1280\nsettings_720p.Height = 720\nsettings_720p.CurrentGraphicsDisplay = False"
      ]
    },
    {
      "cell_type": "markdown",
      "metadata": {},
      "source": [
        "## Import the geometry\n\n"
      ]
    },
    {
      "cell_type": "code",
      "execution_count": null,
      "metadata": {
        "collapsed": false
      },
      "outputs": [],
      "source": [
        "# Define the model\nmodel = app.Model\n\n# Add the geometry import to the geometry import group\ngeometry_import_group = model.GeometryImportGroup\ngeometry_import = geometry_import_group.AddGeometryImport()\n\n# Set the geometry import format and settings\ngeometry_import_format = (\n    Ansys.Mechanical.DataModel.Enums.GeometryImportPreference.Format.Automatic\n)\ngeometry_import_preferences = Ansys.ACT.Mechanical.Utilities.GeometryImportPreferences()\ngeometry_import_preferences.ProcessNamedSelections = True\ngeometry_import_preferences.NamedSelectionKey = \"\"\ngeometry_import_preferences.ProcessMaterialProperties = True\ngeometry_import_preferences.ProcessCoordinateSystems = True\n\n# Import the geometry with the specified settings\ngeometry_import.Import(\n    geometry_path, geometry_import_format, geometry_import_preferences\n)\n\n# Visualize the model in 3D\napp.plot()"
      ]
    },
    {
      "cell_type": "markdown",
      "metadata": {},
      "source": [
        "## Assign materials\n\n"
      ]
    },
    {
      "cell_type": "markdown",
      "metadata": {},
      "source": [
        "Import material from the xml file and assign it to bodies\n\n"
      ]
    },
    {
      "cell_type": "code",
      "execution_count": null,
      "metadata": {
        "collapsed": false
      },
      "outputs": [],
      "source": [
        "# Define and import the materials\nmaterials = model.Materials\nmaterials.Import(mat_path)\n\n# Assign the imported material to the components\npart1 = app.DataModel.GetObjectsByName(r\"Component2\\Rotor11\")[0]\npart2 = app.DataModel.GetObjectsByName(\"Component3\")[0]\npart2_blade1 = part2.Children[0]\npart2_blade2 = part2.Children[1]\npart2_blade3 = part2.Children[2]\npart1.Material = \"MAT1 (Setup, File1)\"\npart2_blade1.Material = \"MAT1 (Setup, File1)\"\npart2_blade2.Material = \"MAT1 (Setup, File1)\"\npart2_blade3.Material = \"MAT1 (Setup, File1)\""
      ]
    },
    {
      "cell_type": "markdown",
      "metadata": {},
      "source": [
        "## Define the unit system and store variables\n\n"
      ]
    },
    {
      "cell_type": "code",
      "execution_count": null,
      "metadata": {
        "collapsed": false
      },
      "outputs": [],
      "source": [
        "# Select MKS units\napp.ExtAPI.Application.ActiveUnitSystem = MechanicalUnitSystem.StandardMKS\n\n# Store all main tree nodes as variables\ngeometry = model.Geometry\nmesh = model.Mesh\nmaterials = model.Materials\ncoordinate_systems = model.CoordinateSystems\nnamed_selections = model.NamedSelections"
      ]
    },
    {
      "cell_type": "markdown",
      "metadata": {},
      "source": [
        "## Define the named selections\n\n"
      ]
    },
    {
      "cell_type": "markdown",
      "metadata": {},
      "source": [
        "Create a function to get named selections by name\n\n"
      ]
    },
    {
      "cell_type": "code",
      "execution_count": null,
      "metadata": {
        "collapsed": false
      },
      "outputs": [],
      "source": [
        "def get_named_selection(ns_list: list) -> dict:\n    \"\"\"Get the named selection by name.\n\n    Parameters\n    ----------\n    ns_list : list\n        A list of named selection names to retrieve.\n\n    Returns\n    -------\n    dict\n        A dictionary containing the named selection objects.\n    \"\"\"\n    ns_dict = {}\n    for name in ns_list:\n        ns_dict[name] = app.DataModel.GetObjectsByName(name)[0]\n    return ns_dict"
      ]
    },
    {
      "cell_type": "markdown",
      "metadata": {},
      "source": [
        "Create a dictionary of named selections\n\n"
      ]
    },
    {
      "cell_type": "code",
      "execution_count": null,
      "metadata": {
        "collapsed": false
      },
      "outputs": [],
      "source": [
        "named_selections_names = [\n    \"Blade\",\n    \"Blade_Surf\",\n    \"Fix_Support\",\n    \"Blade_Hub\",\n    \"Hub_Contact\",\n    \"Blade_Target\",\n    \"Hub_Low\",\n    \"Hub_High\",\n    \"Blade1\",\n    \"Blade1_Source\",\n    \"Blade1_Target\",\n    \"Blade2\",\n    \"Blade2_Source\",\n    \"Blade2_Target\",\n    \"Blade3\",\n    \"Blade3_Source\",\n    \"Blade3_Target\",\n]\nns_dict = get_named_selection(named_selections_names)"
      ]
    },
    {
      "cell_type": "markdown",
      "metadata": {},
      "source": [
        "## Add a coordinate system\n\n"
      ]
    },
    {
      "cell_type": "code",
      "execution_count": null,
      "metadata": {
        "collapsed": false
      },
      "outputs": [],
      "source": [
        "coordinate_systems = model.CoordinateSystems\ncoord_system = coordinate_systems.AddCoordinateSystem()\n# Create cylindrical coordinate system\ncoord_system.CoordinateSystemType = (\n    Ansys.ACT.Interfaces.Analysis.CoordinateSystemTypeEnum.Cylindrical\n)\ncoord_system.OriginDefineBy = CoordinateSystemAlignmentType.Component\ncoord_system.OriginDefineBy = CoordinateSystemAlignmentType.Fixed"
      ]
    },
    {
      "cell_type": "markdown",
      "metadata": {},
      "source": [
        "## Add contact regions\n\n"
      ]
    },
    {
      "cell_type": "code",
      "execution_count": null,
      "metadata": {
        "collapsed": false
      },
      "outputs": [],
      "source": [
        "connections = model.Connections\ncontact_region1 = connections.AddContactRegion()\ncontact_region1.SourceLocation = named_selections.Children[6]\ncontact_region1.TargetLocation = named_selections.Children[5]\ncontact_region1.Behavior = ContactBehavior.AutoAsymmetric\ncontact_region1.ContactFormulation = ContactFormulation.MPC"
      ]
    },
    {
      "cell_type": "markdown",
      "metadata": {},
      "source": [
        "## Define the mesh settings and generate the mesh\n\n"
      ]
    },
    {
      "cell_type": "markdown",
      "metadata": {},
      "source": [
        "Set the mesh settings\n\n"
      ]
    },
    {
      "cell_type": "code",
      "execution_count": null,
      "metadata": {
        "collapsed": false
      },
      "outputs": [],
      "source": [
        "mesh = model.Mesh\n\n# Set the mesh settings\nmesh.ElementSize = Quantity(0.004, \"m\")\nmesh.UseAdaptiveSizing = False\nmesh.MaximumSize = Quantity(0.004, \"m\")\nmesh.ShapeChecking = 0"
      ]
    },
    {
      "cell_type": "markdown",
      "metadata": {},
      "source": [
        "Create a function to add an automatic method to the mesh\n\n"
      ]
    },
    {
      "cell_type": "code",
      "execution_count": null,
      "metadata": {
        "collapsed": false
      },
      "outputs": [],
      "source": [
        "def add_automatic_method(\n    mesh,\n    location_index: int,\n    source_loc_index: int = None,\n    target_loc_index: int = None,\n    method=MethodType.Sweep,\n    source_target_selection=2,\n    sweep_number_divisions=5,\n    set_src_target_properties: bool = True,\n):\n    \"\"\"Add an automatic method to the mesh.\"\"\"\n    automatic_method = mesh.AddAutomaticMethod()\n    automatic_method.Location = named_selections.Children[location_index]\n    automatic_method.Method = method\n    if set_src_target_properties:\n        automatic_method.SourceTargetSelection = source_target_selection\n        if source_loc_index:\n            automatic_method.SourceLocation = named_selections.Children[\n                source_loc_index\n            ]\n        if target_loc_index:\n            automatic_method.TargetLocation = named_selections.Children[\n                target_loc_index\n            ]\n    automatic_method.SweepNumberDivisions = sweep_number_divisions\n\n\n# Add an automatic method for the hub\nadd_automatic_method(\n    mesh, location_index=0, sweep_number_divisions=6, set_src_target_properties=False\n)"
      ]
    },
    {
      "cell_type": "markdown",
      "metadata": {},
      "source": [
        "Add match control and sizing to the mesh\n\n"
      ]
    },
    {
      "cell_type": "code",
      "execution_count": null,
      "metadata": {
        "collapsed": false
      },
      "outputs": [],
      "source": [
        "# Add match control to the mesh\nmatch_control_hub = mesh.AddMatchControl()\n# Set the low and high named selections to named selections' children at indices 7 and 8\nmatch_control_hub.LowNamedSelection = named_selections.Children[7]\nmatch_control_hub.HighNamedSelection = named_selections.Children[8]\n# Set the rotation axis to the second child of the coordinate systems\nmatch_control_hub.RotationAxis = coordinate_systems.Children[1]\n\n# Add sizing to the mesh\nsizing_blade = mesh.AddSizing()\n# Set properties for the sizing blade\nsizing_blade.Location = named_selections.Children[5]\nsizing_blade.ElementSize = Quantity(1e-2, \"m\")\nsizing_blade.CaptureCurvature = True\nsizing_blade.CurvatureNormalAngle = Quantity(0.31, \"rad\")\nsizing_blade.LocalMinimumSize = Quantity(0.0005, \"m\")"
      ]
    },
    {
      "cell_type": "markdown",
      "metadata": {},
      "source": [
        "Add automatic methods for each blad\n\n"
      ]
    },
    {
      "cell_type": "code",
      "execution_count": null,
      "metadata": {
        "collapsed": false
      },
      "outputs": [],
      "source": [
        "add_automatic_method(mesh, 9, 10, 11)\nadd_automatic_method(mesh, 12, 13, 14)\nadd_automatic_method(mesh, 15, 16, 17)"
      ]
    },
    {
      "cell_type": "markdown",
      "metadata": {},
      "source": [
        "Generate the mesh and display the image\n\n"
      ]
    },
    {
      "cell_type": "code",
      "execution_count": null,
      "metadata": {
        "collapsed": false
      },
      "outputs": [],
      "source": [
        "mesh.GenerateMesh()\nset_camera_and_display_image(\n    camera, graphics, settings_720p, output_path, \"blade_mesh.png\"\n)"
      ]
    },
    {
      "cell_type": "markdown",
      "metadata": {},
      "source": [
        "## Define the analysis settings\n\n"
      ]
    },
    {
      "cell_type": "code",
      "execution_count": null,
      "metadata": {
        "collapsed": false
      },
      "outputs": [],
      "source": [
        "# Add a static structural analysis to the model\nmodel.AddStaticStructuralAnalysis()\nstatic_structural_analysis = model.Analyses[0]\n\n# Set the analysis settings\nanalysis_settings = app.ExtAPI.DataModel.Project.Model.Analyses[0].AnalysisSettings\nanalysis_settings.AutomaticTimeStepping = AutomaticTimeStepping.On\nanalysis_settings.NumberOfSubSteps = 10\n\n# Activate the analysis settings\nanalysis_settings.Activate()\n\n# Add a command snippet to the static structural analysis with the archard wear model\ncmd1 = static_structural_analysis.AddCommandSnippet()\n# Add convergence criterion using command snippet.\narchard_wear_model = \"\"\"CNVTOL,U,1.0,5e-5,1,,\"\"\"\ncmd1.AppendText(archard_wear_model)\n\n# Set the analysis settings for inverse solving\nanalysis_settings.InverseOption = True\nanalysis_settings.LargeDeflection = True"
      ]
    },
    {
      "cell_type": "markdown",
      "metadata": {},
      "source": [
        "## Define the boundary conditions\n\n"
      ]
    },
    {
      "cell_type": "code",
      "execution_count": null,
      "metadata": {
        "collapsed": false
      },
      "outputs": [],
      "source": [
        "# Add rotational velocity to the static structural analysis\nrotational_velocity = static_structural_analysis.AddRotationalVelocity()\nrotational_velocity.DefineBy = LoadDefineBy.Components\n# Set z-component input values for the rotational velocity\nrotational_velocity.ZComponent.Inputs[0].DiscreteValues = [\n    Quantity(\"0 [s]\"),\n    Quantity(\"1 [s]\"),\n    Quantity(\"2 [s]\"),\n]\n# Set z-component output values for the rotational velocity\nrotational_velocity.ZComponent.Output.DiscreteValues = [\n    Quantity(\"0 [rad/s]\"),\n    Quantity(\"1680 [rad/s]\"),\n    Quantity(\"1680 [rad/s]\"),\n]\n\n# Add a fixed support to the static structural analysis\nfixed_support = static_structural_analysis.AddFixedSupport()\n# Set the fixed support location to the named selection at index 3\nfixed_support.Location = named_selections.Children[3]"
      ]
    },
    {
      "cell_type": "markdown",
      "metadata": {},
      "source": [
        "## Import and apply temperature and CFX pressure to the structural blade & its surface\n\n"
      ]
    },
    {
      "cell_type": "markdown",
      "metadata": {},
      "source": [
        "Create a function to process the CFX pressure and temperature data files\n\n"
      ]
    },
    {
      "cell_type": "code",
      "execution_count": null,
      "metadata": {
        "collapsed": false
      },
      "outputs": [],
      "source": [
        "def process_external_data(\n    external_data_path: str,\n    skip_rows: int,\n    skip_footer: int,\n    data_type: str,\n    location_index: int,\n):\n    \"\"\"Process the external data file and set its properties.\"\"\"\n    # Add imported load external data to the static structural analysis\n    imported_load_group = static_structural_analysis.AddImportedLoadExternalData()\n\n    external_data_files = Ansys.Mechanical.ExternalData.ExternalDataFileCollection()\n    external_data_files.SaveFilesWithProject = False\n    file = Ansys.Mechanical.ExternalData.ExternalDataFile()\n    external_data_files.Add(file)\n\n    file.Identifier = \"File1\"\n    file.Description = \"\"\n    file.IsMainFile = False\n    file.FilePath = external_data_path\n    # Set the file format to delimited\n    file.ImportSettings = Ansys.Mechanical.ExternalData.ImportSettingsFactory.GetSettingsForFormat(\n        Ansys.Mechanical.DataModel.MechanicalEnums.ExternalData.ImportFormat.Delimited\n    )\n\n    # Set up import settings for the external data file\n    import_settings = file.ImportSettings\n    import_settings.SkipRows = skip_rows\n    import_settings.SkipFooter = skip_footer\n    import_settings.Delimiter = \",\"\n    import_settings.AverageCornerNodesToMidsideNodes = False\n    import_settings.UseColumn(\n        0,\n        Ansys.Mechanical.DataModel.MechanicalEnums.ExternalData.VariableType.XCoordinate,\n        \"m\",\n        \"X Coordinate@A\",\n    )\n    import_settings.UseColumn(\n        1,\n        Ansys.Mechanical.DataModel.MechanicalEnums.ExternalData.VariableType.YCoordinate,\n        \"m\",\n        \"Y Coordinate@B\",\n    )\n    import_settings.UseColumn(\n        2,\n        Ansys.Mechanical.DataModel.MechanicalEnums.ExternalData.VariableType.ZCoordinate,\n        \"m\",\n        \"Z Coordinate@C\",\n    )\n    if data_type == \"pressure\":\n        import_settings.UseColumn(\n            3,\n            Ansys.Mechanical.DataModel.MechanicalEnums.ExternalData.VariableType.Pressure,\n            \"Pa\",\n            \"Pressure@D\",\n        )\n    elif data_type == \"temperature\":\n        import_settings.UseColumn(\n            3,\n            Ansys.Mechanical.DataModel.MechanicalEnums.ExternalData.VariableType.Temperature,\n            \"C\",\n            \"Temperature@D\",\n        )\n    # Import external data files to the imported load group\n    imported_load_group.ImportExternalDataFiles(external_data_files)\n    if data_type == \"pressure\":\n        # Add imported pressure to the imported load group\n        added_obj = imported_load_group.AddImportedPressure()\n    elif data_type == \"temperature\":\n        # Add imported body temperature to the imported load group\n        added_obj = imported_load_group.AddImportedBodyTemperature()\n    # Set properties for the imported pressure\n    added_obj.Location = named_selections.Children[location_index]\n    if data_type == \"pressure\":\n        added_obj.AppliedBy = LoadAppliedBy.Direct\n    added_obj.ImportLoad()\n\n    return added_obj"
      ]
    },
    {
      "cell_type": "markdown",
      "metadata": {},
      "source": [
        "Import and apply CFX pressure to the structural blade surface\n\n"
      ]
    },
    {
      "cell_type": "code",
      "execution_count": null,
      "metadata": {
        "collapsed": false
      },
      "outputs": [],
      "source": [
        "pressure = process_external_data(\n    cfx_data_path, skip_rows=17, skip_footer=0, data_type=\"pressure\", location_index=2\n)\n\n# Activate the imported pressure or temperature and display the image\napp.Tree.Activate([pressure])\nset_camera_and_display_image(\n    camera, graphics, settings_720p, output_path, f\"imported_pressure.png\"\n)"
      ]
    },
    {
      "cell_type": "markdown",
      "metadata": {},
      "source": [
        "Import and apply temperature to the structural blade\n\n"
      ]
    },
    {
      "cell_type": "code",
      "execution_count": null,
      "metadata": {
        "collapsed": false
      },
      "outputs": [],
      "source": [
        "temperature = process_external_data(\n    temp_data_path,\n    skip_rows=0,\n    skip_footer=0,\n    data_type=\"temperature\",\n    location_index=1,\n)\n\n# Activate the imported temperature and display the image\napp.Tree.Activate([temperature])\nset_camera_and_display_image(\n    camera, graphics, settings_720p, output_path, f\"imported_temperature.png\"\n)"
      ]
    },
    {
      "cell_type": "markdown",
      "metadata": {},
      "source": [
        "## Add results to the solution\n\n"
      ]
    },
    {
      "cell_type": "code",
      "execution_count": null,
      "metadata": {
        "collapsed": false
      },
      "outputs": [],
      "source": [
        "# Define the static structural analysis solution\nsolution = static_structural_analysis.Solution\n\n# Add total deformation results to the solution\ntotal_deformation1 = solution.AddTotalDeformation()\ntotal_deformation1.DisplayTime = Quantity(\"1 [s]\")\n\n# Add equivalent stress results to the solution\nequivalent_stress1 = solution.AddEquivalentStress()\nequivalent_stress1.DisplayTime = Quantity(\"1 [s]\")\n\n# Add equivalent total strain results to the solution\nequivalent_total_strain1 = solution.AddEquivalentTotalStrain()\nequivalent_total_strain1.DisplayTime = Quantity(\"1 [s]\")\n\n# Add thermal strain results to the solution\nthermal_strain1 = solution.AddThermalStrain()\nthermal_strain1.DisplayTime = Quantity(\"1 [s]\")"
      ]
    },
    {
      "cell_type": "markdown",
      "metadata": {},
      "source": [
        "## Solve the solution\n\n"
      ]
    },
    {
      "cell_type": "code",
      "execution_count": null,
      "metadata": {
        "collapsed": false
      },
      "outputs": [],
      "source": [
        "# Solve the inverse analysis on the blade model\nsolution.Solve(True)\nsoln_status = solution.Status"
      ]
    },
    {
      "cell_type": "markdown",
      "metadata": {},
      "source": [
        "## Postprocessing\n\n"
      ]
    },
    {
      "cell_type": "markdown",
      "metadata": {},
      "source": [
        "Display the total deformation image\n\n"
      ]
    },
    {
      "cell_type": "code",
      "execution_count": null,
      "metadata": {
        "collapsed": false
      },
      "outputs": [],
      "source": [
        "# Activate the total deformation results\napp.Tree.Activate([total_deformation1])\n# Set the extra model display to no wireframe\ngraphics.ViewOptions.ResultPreference.ExtraModelDisplay = (\n    Ansys.Mechanical.DataModel.MechanicalEnums.Graphics.ExtraModelDisplay.NoWireframe\n)\n# Set the camera to fit the model and export the image\nset_camera_and_display_image(\n    camera, graphics, settings_720p, output_path, \"total_deformation.png\"\n)"
      ]
    },
    {
      "cell_type": "markdown",
      "metadata": {},
      "source": [
        "Display the thermal strain image\n\n"
      ]
    },
    {
      "cell_type": "code",
      "execution_count": null,
      "metadata": {
        "collapsed": false
      },
      "outputs": [],
      "source": [
        "# Activate the thermal strain results\napp.Tree.Activate([thermal_strain1])\n# Set the camera to fit the model and export the image\nset_camera_and_display_image(\n    camera, graphics, settings_720p, output_path, \"thermal_strain.png\"\n)"
      ]
    },
    {
      "cell_type": "markdown",
      "metadata": {},
      "source": [
        "## Clean up the project\n\n"
      ]
    },
    {
      "cell_type": "code",
      "execution_count": null,
      "metadata": {
        "collapsed": false
      },
      "outputs": [],
      "source": [
        "# Save the project\nmechdat_file = output_path / \"blade_inverse.mechdat\"\napp.save(str(mechdat_file))\n\n# Close the app\napp.close()\n\n# Delete the example file\ndelete_downloads()"
      ]
    }
  ],
  "metadata": {
    "kernelspec": {
      "display_name": "Python 3",
      "language": "python",
      "name": "python3"
    },
    "language_info": {
      "codemirror_mode": {
        "name": "ipython",
        "version": 3
      },
      "file_extension": ".py",
      "mimetype": "text/x-python",
      "name": "python",
      "nbconvert_exporter": "python",
      "pygments_lexer": "ipython3",
      "version": "3.12.12"
    }
  },
  "nbformat": 4,
  "nbformat_minor": 0
}