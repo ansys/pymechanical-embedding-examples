{
  "cells": [
    {
      "cell_type": "markdown",
      "metadata": {},
      "source": [
        "\n# Nonlinear Analysis of a Rubber Boot Seal Model\n\nThis example demonstrates a nonlinear 3D analysis of a rubber boot seal to:\n\n- Create a rigid-flexible contact pair between a rigid shaft and a\n  rubber boot part.\n- Specify ramped effects using the On Gauss Point Detection Method\n  to update contact stiffness at each iteration.\n- Specify contact pairs at the inner and outer surfaces of the rubber boot.\n- Specify non-ramped effects using the Nodal-Projected Normal From Contact\n  Detection Method to update contact stiffness at each iteration.\n"
      ]
    },
    {
      "cell_type": "markdown",
      "metadata": {},
      "source": [
        "## Import the necessary libraries\n\n"
      ]
    },
    {
      "cell_type": "code",
      "execution_count": null,
      "metadata": {
        "collapsed": false
      },
      "outputs": [],
      "source": [
        "from pathlib import Path\nfrom typing import TYPE_CHECKING\n\nfrom PIL import Image\nfrom ansys.mechanical.core import App\nfrom ansys.mechanical.core.examples import delete_downloads, download_file\nfrom matplotlib import image as mpimg\nfrom matplotlib import pyplot as plt\nfrom matplotlib.animation import FuncAnimation\n\nif TYPE_CHECKING:\n    import Ansys"
      ]
    },
    {
      "cell_type": "markdown",
      "metadata": {},
      "source": [
        "## Initialize the embedded application\n\n"
      ]
    },
    {
      "cell_type": "code",
      "execution_count": null,
      "metadata": {
        "collapsed": false
      },
      "outputs": [],
      "source": [
        "app = App(globals=globals())\nprint(app)"
      ]
    },
    {
      "cell_type": "markdown",
      "metadata": {},
      "source": [
        "## Create functions to set camera and display images\n\n"
      ]
    },
    {
      "cell_type": "code",
      "execution_count": null,
      "metadata": {
        "collapsed": false
      },
      "outputs": [],
      "source": [
        "# Set the path for the output files (images, gifs, mechdat)\noutput_path = Path.cwd() / \"out\"\n\n\ndef set_camera_and_display_image(\n    camera,\n    graphics,\n    graphics_image_export_settings,\n    image_output_path: Path,\n    image_name: str,\n) -> None:\n    \"\"\"Set the camera to fit the model and display the image.\n\n    Parameters\n    ----------\n    camera : Ansys.ACT.Common.Graphics.MechanicalCameraWrapper\n        The camera object to set the view.\n    graphics : Ansys.ACT.Common.Graphics.MechanicalGraphicsWrapper\n        The graphics object to export the image.\n    graphics_image_export_settings : Ansys.Mechanical.Graphics.GraphicsImageExportSettings\n        The settings for exporting the image.\n    image_output_path : Path\n        The path to save the exported image.\n    image_name : str\n        The name of the exported image file.\n    \"\"\"\n    # Set the camera to fit the mesh\n    camera.SetFit()\n    # Export the mesh image with the specified settings\n    image_path = image_output_path / image_name\n    graphics.ExportImage(\n        str(image_path), image_export_format, graphics_image_export_settings\n    )\n    # Display the exported mesh image\n    display_image(image_path)\n\n\ndef display_image(\n    image_path: str,\n    pyplot_figsize_coordinates: tuple = (16, 9),\n    plot_xticks: list = [],\n    plot_yticks: list = [],\n    plot_axis: str = \"off\",\n) -> None:\n    \"\"\"Display the image with the specified parameters.\n\n    Parameters\n    ----------\n    image_path : str\n        The path to the image file to display.\n    pyplot_figsize_coordinates : tuple\n        The size of the figure in inches (width, height).\n    plot_xticks : list\n        The x-ticks to display on the plot.\n    plot_yticks : list\n        The y-ticks to display on the plot.\n    plot_axis : str\n        The axis visibility setting ('on' or 'off').\n    \"\"\"\n    # Set the figure size based on the coordinates specified\n    plt.figure(figsize=pyplot_figsize_coordinates)\n    # Read the image from the file into an array\n    plt.imshow(mpimg.imread(image_path))\n    # Get or set the current tick locations and labels of the x-axis\n    plt.xticks(plot_xticks)\n    # Get or set the current tick locations and labels of the y-axis\n    plt.yticks(plot_yticks)\n    # Turn off the axis\n    plt.axis(plot_axis)\n    # Display the figure\n    plt.show()"
      ]
    },
    {
      "cell_type": "markdown",
      "metadata": {},
      "source": [
        "## Configure graphics for image export\n\n"
      ]
    },
    {
      "cell_type": "code",
      "execution_count": null,
      "metadata": {
        "collapsed": false
      },
      "outputs": [],
      "source": [
        "graphics = app.Graphics\ncamera = graphics.Camera\n\n# Set the camera orientation to the isometric view\ncamera.SetSpecificViewOrientation(\n    Ansys.Mechanical.DataModel.Enums.ViewOrientationType.Iso\n)\ncamera.SetFit()\n\n# Set the image export format and settings\nimage_export_format = GraphicsImageExportFormat.PNG\nsettings_720p = Ansys.Mechanical.Graphics.GraphicsImageExportSettings()\nsettings_720p.Resolution = GraphicsResolutionType.EnhancedResolution\nsettings_720p.Background = GraphicsBackgroundType.White\nsettings_720p.Width = 1280\nsettings_720p.Height = 720\nsettings_720p.CurrentGraphicsDisplay = False"
      ]
    },
    {
      "cell_type": "markdown",
      "metadata": {},
      "source": [
        "## Download the geometry and material files\n\n"
      ]
    },
    {
      "cell_type": "code",
      "execution_count": null,
      "metadata": {
        "collapsed": false
      },
      "outputs": [],
      "source": [
        "geometry_path = download_file(\n    \"example_05_td26_Rubber_Boot_Seal.agdb\", \"pymechanical\", \"00_basic\"\n)\nmat_path = download_file(\"example_05_Boot_Mat.xml\", \"pymechanical\", \"00_basic\")"
      ]
    },
    {
      "cell_type": "markdown",
      "metadata": {},
      "source": [
        "## Import the geometry and material\n\n"
      ]
    },
    {
      "cell_type": "markdown",
      "metadata": {},
      "source": [
        "Import the material\n\n"
      ]
    },
    {
      "cell_type": "code",
      "execution_count": null,
      "metadata": {
        "collapsed": false
      },
      "outputs": [],
      "source": [
        "model = app.Model\nmaterials = model.Materials\nmaterials.Import(mat_path)"
      ]
    },
    {
      "cell_type": "markdown",
      "metadata": {},
      "source": [
        "Import the geometry\n\n"
      ]
    },
    {
      "cell_type": "code",
      "execution_count": null,
      "metadata": {
        "collapsed": false
      },
      "outputs": [],
      "source": [
        "# Add a geometry import to the geometry import group for the model\ngeometry_import = model.GeometryImportGroup.AddGeometryImport()\n\n# Set the geometry import format and preferences\ngeometry_import_format = (\n    Ansys.Mechanical.DataModel.Enums.GeometryImportPreference.Format.Automatic\n)\ngeometry_import_preferences = Ansys.ACT.Mechanical.Utilities.GeometryImportPreferences()\ngeometry_import_preferences.ProcessNamedSelections = True\ngeometry_import_preferences.ProcessCoordinateSystems = True\n\n# Import the geometry with the specified format and preferences\ngeometry_import.Import(\n    geometry_path, geometry_import_format, geometry_import_preferences\n)\n\n# Visualize the imported geometry in 3D\napp.plot()"
      ]
    },
    {
      "cell_type": "markdown",
      "metadata": {},
      "source": [
        "## Set up the analysis\n\n"
      ]
    },
    {
      "cell_type": "code",
      "execution_count": null,
      "metadata": {
        "collapsed": false
      },
      "outputs": [],
      "source": [
        "# Set the active unit system and angle unit\napp.ExtAPI.Application.ActiveUnitSystem = MechanicalUnitSystem.StandardNMM\napp.ExtAPI.Application.ActiveAngleUnit = AngleUnitType.Radian"
      ]
    },
    {
      "cell_type": "markdown",
      "metadata": {},
      "source": [
        "Store all main tree nodes as variables\n\n"
      ]
    },
    {
      "cell_type": "code",
      "execution_count": null,
      "metadata": {
        "collapsed": false
      },
      "outputs": [],
      "source": [
        "# Define the geometry for the model\ngeometry = model.Geometry\n# Get the part and solid objects from the geometry\npart1 = app.DataModel.GetObjectsByName(\"Part\")[0]\npart2 = app.DataModel.GetObjectsByName(\"Solid\")[1]\n\n# Define the coordinate systems\ncoordinate_systems = model.CoordinateSystems\ngeometry_coordinate_systems = coordinate_systems.Children[0]"
      ]
    },
    {
      "cell_type": "markdown",
      "metadata": {},
      "source": [
        "Add a static structural analysis\n\n"
      ]
    },
    {
      "cell_type": "code",
      "execution_count": null,
      "metadata": {
        "collapsed": false
      },
      "outputs": [],
      "source": [
        "# Add a static structural analysis to the model\nmodel.AddStaticStructuralAnalysis()\n\n# Get the static structural analysis from the model\nstatic_structural_analysis = model.Analyses[0]\n\n# Get the analysis settings, solution, and solution information\nanalysis_settings = static_structural_analysis.Children[0]\nstat_struct_soln = static_structural_analysis.Solution\nsoln_info = stat_struct_soln.SolutionInformation"
      ]
    },
    {
      "cell_type": "markdown",
      "metadata": {},
      "source": [
        "Create a function to get named selections\n\n"
      ]
    },
    {
      "cell_type": "code",
      "execution_count": null,
      "metadata": {
        "collapsed": false
      },
      "outputs": [],
      "source": [
        "def get_named_selection(\n    named_selections, name: str\n) -> Ansys.ACT.Automation.Mechanical.NamedSelection:\n    \"\"\"Get a named selection by its name.\n\n    Parameters\n    ----------\n    named_selections : Ansys.ACT.Automation.Mechanical.NamedSelections\n        The named selections object to search in.\n    name : str\n        The name of the named selection to retrieve.\n\n    Returns\n    -------\n    Ansys.ACT.Automation.Mechanical.NamedSelection\n        The named selection object.\n    \"\"\"\n    return [\n        child\n        for child in named_selections.GetChildren[\n            Ansys.ACT.Automation.Mechanical.NamedSelection\n        ](True)\n        if child.Name == name\n    ][0]"
      ]
    },
    {
      "cell_type": "markdown",
      "metadata": {},
      "source": [
        "Define named selections and coordinate systems\n\n"
      ]
    },
    {
      "cell_type": "code",
      "execution_count": null,
      "metadata": {
        "collapsed": false
      },
      "outputs": [],
      "source": [
        "named_selections = app.ExtAPI.DataModel.Project.Model.NamedSelections\ntop_face = get_named_selection(named_selections, \"Top_Face\")\nbottom_face = get_named_selection(named_selections, \"Bottom_Face\")\nsymm_faces30 = get_named_selection(named_selections, \"Symm_Faces30\")\nfaces2 = get_named_selection(named_selections, \"Faces2\")\ncyl_faces2 = get_named_selection(named_selections, \"Cyl_Faces2\")\nrubber_bodies30 = get_named_selection(named_selections, \"Rubber_Bodies30\")\ninner_faces30 = get_named_selection(named_selections, \"Inner_Faces30\")\nouter_faces30 = get_named_selection(named_selections, \"Outer_Faces30\")\nshaft_face = get_named_selection(named_selections, \"Shaft_Face\")\nsymm_faces15 = get_named_selection(named_selections, \"Symm_Faces15\")\n\n# Add a coordinate system and set its origin y-coordinate\nlcs1 = coordinate_systems.AddCoordinateSystem()\nlcs1.OriginY = Quantity(\"97[mm]\")"
      ]
    },
    {
      "cell_type": "markdown",
      "metadata": {},
      "source": [
        "Assign material\n\n"
      ]
    },
    {
      "cell_type": "code",
      "execution_count": null,
      "metadata": {
        "collapsed": false
      },
      "outputs": [],
      "source": [
        "# Set the material for the rubber boot part\npart1.Material = \"Boot\"\n# Set the stiffness behavior for the rubber boot part\npart2.StiffnessBehavior = StiffnessBehavior.Rigid"
      ]
    },
    {
      "cell_type": "markdown",
      "metadata": {},
      "source": [
        "Create a function to add a contact region and set its properties\n\n"
      ]
    },
    {
      "cell_type": "code",
      "execution_count": null,
      "metadata": {
        "collapsed": false
      },
      "outputs": [],
      "source": [
        "def add_contact_region_and_props(\n    body,\n    target_location,\n    src_location,\n    set_src_first: bool = True,\n    contact_type=ContactType.Frictional,\n    friction_coefficient=0.2,\n    behavior=ContactBehavior.Asymmetric,\n    small_sliding=ContactSmallSlidingType.Off,\n    detection_method=ContactDetectionPoint.OnGaussPoint,\n    update_stiffness=UpdateContactStiffness.EachIteration,\n):\n    \"\"\"Add a contact region and set its properties.\n\n    Parameters\n    ----------\n    body : Ansys.ACT.Automation.Mechanical.Body\n        The body to which the contact region is added.\n    target_location : Ansys.ACT.Automation.Mechanical.NamedSelection\n        The target location for the contact region.\n    src_location : Ansys.ACT.Automation.Mechanical.NamedSelection\n        The source location for the contact region.\n    set_src_first : bool\n        Whether to set the source location first.\n    contact_type : ContactType\n        The type of contact (default is Frictional).\n    friction_coefficient : float\n        The friction coefficient for the contact region (default is 0.2).\n    behavior : ContactBehavior\n        The behavior of the contact region (default is Asymmetric).\n    small_sliding : ContactSmallSlidingType\n        The small sliding type for the contact region (default is Off).\n    detection_method : ContactDetectionPoint\n        The detection method for the contact region (default is OnGaussPoint).\n    update_stiffness : UpdateContactStiffness\n        The update stiffness method for the contact region (default is EachIteration).\n\n    Returns\n    -------\n    Ansys.ACT.Automation.Mechanical.ContactRegion\n        The created contact region.\n    \"\"\"\n    # Add a contact region to the connection or child connection\n    contact_region = body.AddContactRegion()\n    # Set the source and target locations for the contact region\n    if set_src_first:\n        contact_region.SourceLocation = src_location\n        contact_region.TargetLocation = target_location\n    else:\n        contact_region.TargetLocation = target_location\n        contact_region.SourceLocation = src_location\n    # Set the contact type, friction coefficient, behavior, small sliding,\n    # detection method, and update stiffness for the contact region\n    contact_region.ContactType = contact_type\n    contact_region.FrictionCoefficient = friction_coefficient\n    contact_region.Behavior = behavior\n    contact_region.SmallSliding = small_sliding\n    contact_region.DetectionMethod = detection_method\n    contact_region.UpdateStiffness = update_stiffness\n\n    return contact_region"
      ]
    },
    {
      "cell_type": "markdown",
      "metadata": {},
      "source": [
        "Add contact regions\n\n"
      ]
    },
    {
      "cell_type": "code",
      "execution_count": null,
      "metadata": {
        "collapsed": false
      },
      "outputs": [],
      "source": [
        "# Add a contact region to the connections\nconnections = model.Connections\ncontact_region1 = add_contact_region_and_props(\n    connections,\n    target_location=shaft_face,\n    src_location=inner_faces30,\n    set_src_first=False,\n)\n# Set interface treatment and target properties\ncontact_region1.InterfaceTreatment = ContactInitialEffect.AddOffsetRampedEffects\ncontact_region1.TargetGeometryCorrection = TargetCorrection.Smoothing\ncontact_region1.TargetOrientation = TargetOrientation.Cylinder\ncontact_region1.TargetStartingPoint = geometry_coordinate_systems\ncontact_region1.TargetEndingPoint = lcs1\n\n# Add a contact region to the child connections\nconts = connections.Children[0]\ncontact_region2 = add_contact_region_and_props(\n    conts,\n    target_location=inner_faces30,\n    src_location=inner_faces30,\n    detection_method=ContactDetectionPoint.NodalProjectedNormalFromContact,\n)\n# Set the stiffness value type and factor\ncontact_region2.NormalStiffnessValueType = ElementControlsNormalStiffnessType.Factor\ncontact_region2.NormalStiffnessFactor = 1\n\n# Add a contact region to the child connections\ncontact_region3 = add_contact_region_and_props(\n    conts,\n    target_location=outer_faces30,\n    src_location=outer_faces30,\n    detection_method=ContactDetectionPoint.NodalProjectedNormalFromContact,\n)\n# Set the stiffness value type and factor\ncontact_region3.NormalStiffnessValueType = ElementControlsNormalStiffnessType.Factor\ncontact_region3.NormalStiffnessFactor = 1"
      ]
    },
    {
      "cell_type": "markdown",
      "metadata": {},
      "source": [
        "## Add face meshing and sizing\n\n"
      ]
    },
    {
      "cell_type": "code",
      "execution_count": null,
      "metadata": {
        "collapsed": false
      },
      "outputs": [],
      "source": [
        "# Define the mesh for the model\nmesh = model.Mesh\n\n# Add face meshing to the mesh\nface_mesh = mesh.AddFaceMeshing()\n# Set the location of the face mesh to the shaft face\n# and set the internal number of divisions to 1\nface_mesh.Location = shaft_face\nface_mesh.InternalNumberOfDivisions = 1\n\n# Add sizing to the mesh\nmesh_size = mesh.AddSizing()\n# Set the location of the mesh size to the symmetry faces\n# and set the element size to 2 mm\nmesh_size.Location = symm_faces15\nmesh_size.ElementSize = Quantity(\"2 [mm]\")\nmesh.ElementOrder = ElementOrder.Linear\nmesh.Resolution = 2\n\n# Generate the mesh and display the image\nmesh.GenerateMesh()\nset_camera_and_display_image(camera, graphics, settings_720p, output_path, \"mesh.png\")"
      ]
    },
    {
      "cell_type": "markdown",
      "metadata": {},
      "source": [
        "## Add remote points\n\n"
      ]
    },
    {
      "cell_type": "code",
      "execution_count": null,
      "metadata": {
        "collapsed": false
      },
      "outputs": [],
      "source": [
        "def add_remote_point(\n    model,\n    location,\n    behavior=LoadBehavior.Rigid,\n):\n    \"\"\"Add a remote point to the model.\n\n    Parameters\n    ----------\n    model : Ansys.ACT.Automation.Mechanical.Model\n        The model to which the remote point is added.\n    location : Ansys.ACT.Automation.Mechanical.NamedSelection\n        The location of the remote point.\n    behavior : LoadBehavior\n        The behavior of the remote point (default is Rigid).\n\n    Returns\n    -------\n    Ansys.ACT.Automation.Mechanical.RemotePoint\n        The created remote point.\n    \"\"\"\n    remote_point = model.AddRemotePoint()\n    remote_point.Location = location\n    remote_point.Behavior = behavior\n\n    return remote_point\n\n\nremote_point01 = add_remote_point(model, bottom_face)\nremote_point02 = add_remote_point(model, top_face)"
      ]
    },
    {
      "cell_type": "markdown",
      "metadata": {},
      "source": [
        "## Configure the analysis settings\n\n"
      ]
    },
    {
      "cell_type": "markdown",
      "metadata": {},
      "source": [
        "Define a function to set the analysis settings\n\n"
      ]
    },
    {
      "cell_type": "code",
      "execution_count": null,
      "metadata": {
        "collapsed": false
      },
      "outputs": [],
      "source": [
        "def set_analysis_settings(\n    analysis_settings,\n    current_step_number: int,\n    initial_substeps: int,\n    minimum_substeps: int,\n    store_results_at_value: int,\n    automatic_time_stepping: bool = AutomaticTimeStepping.On,\n    define_by: TimeStepDefineByType = TimeStepDefineByType.Substeps,\n    maximum_substeps: int = 1000,\n    store_results_at: TimePointsOptions = TimePointsOptions.EquallySpacedPoints,\n):\n    analysis_settings.CurrentStepNumber = current_step_number\n    analysis_settings.AutomaticTimeStepping = automatic_time_stepping\n    analysis_settings.DefineBy = define_by\n    analysis_settings.InitialSubsteps = initial_substeps\n    analysis_settings.MinimumSubsteps = minimum_substeps\n    analysis_settings.MaximumSubsteps = maximum_substeps\n    analysis_settings.StoreResultsAt = store_results_at\n    analysis_settings.StoreResulsAtValue = store_results_at_value"
      ]
    },
    {
      "cell_type": "markdown",
      "metadata": {},
      "source": [
        "Configure the analysis settings\n\n"
      ]
    },
    {
      "cell_type": "code",
      "execution_count": null,
      "metadata": {
        "collapsed": false
      },
      "outputs": [],
      "source": [
        "analysis_settings.Activate()\nanalysis_settings.LargeDeflection = True\nanalysis_settings.Stabilization = StabilizationType.Off\nanalysis_settings.NumberOfSteps = 2\n\nset_analysis_settings(\n    analysis_settings,\n    current_step_number=1,\n    initial_substeps=5,\n    minimum_substeps=5,\n    store_results_at_value=5,\n)\n\nset_analysis_settings(\n    analysis_settings,\n    current_step_number=2,\n    initial_substeps=10,\n    minimum_substeps=10,\n    store_results_at_value=10,\n)\n\nset_analysis_settings(\n    analysis_settings,\n    current_step_number=3,\n    initial_substeps=30,\n    minimum_substeps=30,\n    store_results_at_value=20,\n)\n\nsoln_info.NewtonRaphsonResiduals = 4"
      ]
    },
    {
      "cell_type": "markdown",
      "metadata": {},
      "source": [
        "## Set load and boundary conditions\n\n"
      ]
    },
    {
      "cell_type": "code",
      "execution_count": null,
      "metadata": {
        "collapsed": false
      },
      "outputs": [],
      "source": [
        "remote_displacement = static_structural_analysis.AddRemoteDisplacement()\nremote_displacement.Location = remote_point01"
      ]
    },
    {
      "cell_type": "markdown",
      "metadata": {},
      "source": [
        "Define a function to convert a list of values to quantities\n\n"
      ]
    },
    {
      "cell_type": "code",
      "execution_count": null,
      "metadata": {
        "collapsed": false
      },
      "outputs": [],
      "source": [
        "def convert_to_quantity(quantity_list: tuple) -> list:\n    \"\"\"Convert a list of values to quantities.\n\n    Parameters\n    ----------\n    quantity_list : tuple\n        A tuple containing a list of values and the unit.\n\n    Returns\n    -------\n    list\n        A list of quantities with the specified unit.\n    \"\"\"\n    values, unit = quantity_list\n    return [Quantity(f\"{value} [{unit}]\") for value in values]"
      ]
    },
    {
      "cell_type": "markdown",
      "metadata": {},
      "source": [
        "Set the input values for all remote displacement components\n\n"
      ]
    },
    {
      "cell_type": "code",
      "execution_count": null,
      "metadata": {
        "collapsed": false
      },
      "outputs": [],
      "source": [
        "input_values = convert_to_quantity(([0, 1, 2, 3], \"s\"))"
      ]
    },
    {
      "cell_type": "markdown",
      "metadata": {},
      "source": [
        "Set the X component input and output values\n\n"
      ]
    },
    {
      "cell_type": "code",
      "execution_count": null,
      "metadata": {
        "collapsed": false
      },
      "outputs": [],
      "source": [
        "x_component = remote_displacement.XComponent\nx_component.Inputs[0].DiscreteValues = input_values\nx_component.Output.DiscreteValues = convert_to_quantity(([0, 0, 0, 0], \"mm\"))"
      ]
    },
    {
      "cell_type": "markdown",
      "metadata": {},
      "source": [
        "Set the Y component input and output values\n\n"
      ]
    },
    {
      "cell_type": "code",
      "execution_count": null,
      "metadata": {
        "collapsed": false
      },
      "outputs": [],
      "source": [
        "y_component = remote_displacement.YComponent\ny_component.Inputs[0].DiscreteValues = input_values\ny_component.Output.DiscreteValues = convert_to_quantity(([0, 0, -10, -10], \"mm\"))"
      ]
    },
    {
      "cell_type": "markdown",
      "metadata": {},
      "source": [
        "Set the Z component input and output values\n\n"
      ]
    },
    {
      "cell_type": "code",
      "execution_count": null,
      "metadata": {
        "collapsed": false
      },
      "outputs": [],
      "source": [
        "z_component = remote_displacement.ZComponent\nz_component.Inputs[0].DiscreteValues = input_values\nz_component.Output.DiscreteValues = convert_to_quantity(([0, 0, 0, 0], \"mm\"))"
      ]
    },
    {
      "cell_type": "markdown",
      "metadata": {},
      "source": [
        "Set the rotation X component input and output values\n\n"
      ]
    },
    {
      "cell_type": "code",
      "execution_count": null,
      "metadata": {
        "collapsed": false
      },
      "outputs": [],
      "source": [
        "rotation_x = remote_displacement.RotationX\nrotation_x.Inputs[0].DiscreteValues = input_values\nrotation_x.Output.DiscreteValues = convert_to_quantity(([0, 0, 0, 0], \"rad\"))"
      ]
    },
    {
      "cell_type": "markdown",
      "metadata": {},
      "source": [
        "Set the rotation X component input and output values\n\n"
      ]
    },
    {
      "cell_type": "code",
      "execution_count": null,
      "metadata": {
        "collapsed": false
      },
      "outputs": [],
      "source": [
        "rotation_y = remote_displacement.RotationY\nrotation_y.Inputs[0].DiscreteValues = input_values\nrotation_y.Output.DiscreteValues = convert_to_quantity(([0, 0, 0, 0], \"rad\"))"
      ]
    },
    {
      "cell_type": "markdown",
      "metadata": {},
      "source": [
        "Set the rotation Z component input and output values\n\n"
      ]
    },
    {
      "cell_type": "code",
      "execution_count": null,
      "metadata": {
        "collapsed": false
      },
      "outputs": [],
      "source": [
        "rotation_z = remote_displacement.RotationZ\nrotation_z.Inputs[0].DiscreteValues = input_values\nrotation_z.Output.DiscreteValues = convert_to_quantity(([0, 0, 0, 0.55], \"rad\"))"
      ]
    },
    {
      "cell_type": "markdown",
      "metadata": {},
      "source": [
        "Add frictionless support to the static structural analysis\n\n"
      ]
    },
    {
      "cell_type": "code",
      "execution_count": null,
      "metadata": {
        "collapsed": false
      },
      "outputs": [],
      "source": [
        "def add_frictionless_support(\n    static_structural_analysis,\n    location,\n    name: str,\n):\n    \"\"\"Add frictionless support to the static structural analysis.\n\n    Parameters\n    ----------\n    static_structural_analysis : Ansys.ACT.Automation.Mechanical.StaticStructuralAnalysis\n        The static structural analysis object.\n    location : Ansys.ACT.Automation.Mechanical.NamedSelection\n        The location of the frictionless support.\n    name : str\n        The name of the frictionless support.\n\n    Returns\n    -------\n    Ansys.ACT.Automation.Mechanical.FrictionlessSupport\n        The created frictionless support.\n    \"\"\"\n    frictionless_support = static_structural_analysis.AddFrictionlessSupport()\n    frictionless_support.Location = location\n    frictionless_support.Name = name\n\n    return frictionless_support\n\n\nadd_frictionless_support(static_structural_analysis, symm_faces30, \"Symmetry_BC\")\nadd_frictionless_support(static_structural_analysis, faces2, \"Boot_Bottom_BC\")\nadd_frictionless_support(static_structural_analysis, cyl_faces2, \"Boot_Radial_BC\")"
      ]
    },
    {
      "cell_type": "markdown",
      "metadata": {},
      "source": [
        "## Add results\n\n"
      ]
    },
    {
      "cell_type": "code",
      "execution_count": null,
      "metadata": {
        "collapsed": false
      },
      "outputs": [],
      "source": [
        "# Add total deformation results to the solution\ntotal_deformation = static_structural_analysis.Solution.AddTotalDeformation()\ntotal_deformation.Location = rubber_bodies30\n\n# Add equivalent stress results to the solution\nequivalent_stress = static_structural_analysis.Solution.AddEquivalentStress()\nequivalent_stress.Location = rubber_bodies30"
      ]
    },
    {
      "cell_type": "markdown",
      "metadata": {},
      "source": [
        "## Solve the static structural analysis\n\n"
      ]
    },
    {
      "cell_type": "code",
      "execution_count": null,
      "metadata": {
        "collapsed": false
      },
      "outputs": [],
      "source": [
        "static_structural_analysis.Solution.Solve(True)"
      ]
    },
    {
      "cell_type": "markdown",
      "metadata": {},
      "source": [
        "## Postprocessing\n\n"
      ]
    },
    {
      "cell_type": "code",
      "execution_count": null,
      "metadata": {
        "collapsed": false
      },
      "outputs": [],
      "source": [
        "# Activate the total deformation result and display the image\napp.Tree.Activate([total_deformation])\nset_camera_and_display_image(\n    camera, graphics, settings_720p, output_path, \"total_deformation.png\"\n)"
      ]
    },
    {
      "cell_type": "markdown",
      "metadata": {},
      "source": [
        "Equivalent stress\n\n"
      ]
    },
    {
      "cell_type": "code",
      "execution_count": null,
      "metadata": {
        "collapsed": false
      },
      "outputs": [],
      "source": [
        "# Activate the equivalent stress result and display the image\napp.Tree.Activate([equivalent_stress])\nset_camera_and_display_image(\n    camera, graphics, settings_720p, output_path, \"equivalent_stress.png\"\n)"
      ]
    },
    {
      "cell_type": "markdown",
      "metadata": {},
      "source": [
        "Create a function to set the animation for the GIF\n\n"
      ]
    },
    {
      "cell_type": "code",
      "execution_count": null,
      "metadata": {
        "collapsed": false
      },
      "outputs": [],
      "source": [
        "def update_animation(frame: int) -> list[mpimg.AxesImage]:\n    \"\"\"Update the animation frame for the GIF.\n\n    Parameters\n    ----------\n    frame : int\n        The frame number to update the animation.\n\n    Returns\n    -------\n    list[mpimg.AxesImage]\n        A list containing the updated image for the animation.\n    \"\"\"\n    # Seeks to the given frame in this sequence file\n    gif.seek(frame)\n    # Set the image array to the current frame of the GIF\n    image.set_data(gif.convert(\"RGBA\"))\n    # Return the updated image\n    return [image]"
      ]
    },
    {
      "cell_type": "markdown",
      "metadata": {},
      "source": [
        "Show the total deformation animation\n\n"
      ]
    },
    {
      "cell_type": "code",
      "execution_count": null,
      "metadata": {
        "collapsed": false
      },
      "outputs": [],
      "source": [
        "# Set the animation export format and settings\nanimation_export_format = (\n    Ansys.Mechanical.DataModel.Enums.GraphicsAnimationExportFormat.GIF\n)\nsettings_720p = Ansys.Mechanical.Graphics.AnimationExportSettings()\nsettings_720p.Width = 1280\nsettings_720p.Height = 720\n\n# Export the total deformation animation as a GIF\ntotal_deformation_gif = output_path / \"total_deformation.gif\"\ntotal_deformation.ExportAnimation(\n    str(total_deformation_gif), animation_export_format, settings_720p\n)\n\n# Open the GIF file and create an animation\ngif = Image.open(total_deformation_gif)\n# Set the subplots for the animation and turn off the axis\nfigure, axes = plt.subplots(figsize=(16, 9))\naxes.axis(\"off\")\n# Change the color of the image\nimage = axes.imshow(gif.convert(\"RGBA\"))\n\n# Create the animation using the figure, update_animation function, and the GIF frames\n# Set the interval between frames to 200 milliseconds and repeat the animation\nFuncAnimation(\n    figure,\n    update_animation,\n    frames=range(gif.n_frames),\n    interval=200,\n    repeat=True,\n    blit=True,\n)\n\n# Show the animation\nplt.show()"
      ]
    },
    {
      "cell_type": "markdown",
      "metadata": {},
      "source": [
        "## Clean up the project\n\n"
      ]
    },
    {
      "cell_type": "code",
      "execution_count": null,
      "metadata": {
        "collapsed": false
      },
      "outputs": [],
      "source": [
        "# Save the mechdat file\nmechdat_file = output_path / \"non_linear_rubber_boot_seal.mechdat\"\napp.save(str(mechdat_file))\n\n# Close the app\napp.close()\n\n# Delete the example files\ndelete_downloads()"
      ]
    }
  ],
  "metadata": {
    "kernelspec": {
      "display_name": "Python 3",
      "language": "python",
      "name": "python3"
    },
    "language_info": {
      "codemirror_mode": {
        "name": "ipython",
        "version": 3
      },
      "file_extension": ".py",
      "mimetype": "text/x-python",
      "name": "python",
      "nbconvert_exporter": "python",
      "pygments_lexer": "ipython3",
      "version": "3.12.12"
    }
  },
  "nbformat": 4,
  "nbformat_minor": 0
}