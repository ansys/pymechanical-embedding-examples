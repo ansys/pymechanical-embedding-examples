{
  "cells": [
    {
      "cell_type": "markdown",
      "metadata": {},
      "source": [
        "\n# Contact Surface Wear Simulation\n\nUsing a Archard wear model, this example demonstrates contact sliding\nof a hemispherical ring on a flat ring to produce wear.\n\nThe model includes:\n\n- Hemispherical ring with a radius of 30 mm made of copper.\n- Flat ring with an inner radius of 50 mm and an outer radius of 150 mm made of steel.\n\nThe hemispherical ring is in contact with the flat ring at the center\nfrom the axis of rotation at 100 mm and is subjected to a\n1) pressure of 4000 N/mm2 and 2) a rotation with a frequency\nof 100,000 revolutions/sec.\n\nThe application evaluates total deformation and normal stress results,\nin loading direction, prior to and following wear. In addition,\ncontact pressure prior to wear is evaluated.\n"
      ]
    },
    {
      "cell_type": "markdown",
      "metadata": {},
      "source": [
        "## Import the necessary libraries\n\n"
      ]
    },
    {
      "cell_type": "code",
      "execution_count": null,
      "metadata": {
        "collapsed": false
      },
      "outputs": [],
      "source": [
        "from pathlib import Path\nfrom typing import TYPE_CHECKING\n\nfrom PIL import Image\nfrom ansys.mechanical.core import App\nfrom ansys.mechanical.core.examples import delete_downloads, download_file\nfrom matplotlib import image as mpimg\nfrom matplotlib import pyplot as plt\nfrom matplotlib.animation import FuncAnimation\n\nif TYPE_CHECKING:\n    import Ansys\n    from Ansys.Core.Units import Quantity\n    from Ansys.Mechanical.DataModel.Enums import *"
      ]
    },
    {
      "cell_type": "markdown",
      "metadata": {},
      "source": [
        "## Initialize the embedded application\n\n"
      ]
    },
    {
      "cell_type": "code",
      "execution_count": null,
      "metadata": {
        "collapsed": false
      },
      "outputs": [],
      "source": [
        "app = App(globals=globals())\nprint(app)"
      ]
    },
    {
      "cell_type": "markdown",
      "metadata": {},
      "source": [
        "## Create functions to set camera and display images\n\n"
      ]
    },
    {
      "cell_type": "code",
      "execution_count": null,
      "metadata": {
        "collapsed": false
      },
      "outputs": [],
      "source": [
        "# Set the path for the output files (images, gifs, mechdat)\noutput_path = Path.cwd() / \"out\"\n\n\ndef set_camera_and_display_image(\n    camera: Ansys.ACT.Common.Graphics.MechanicalCameraWrapper,\n    graphics: Ansys.ACT.Common.Graphics.MechanicalGraphicsWrapper,\n    graphics_image_export_settings: Ansys.Mechanical.Graphics.GraphicsImageExportSettings,\n    image_output_path: Path,\n    image_name: str,\n) -> None:\n    \"\"\"Set the camera to fit the model and display the image.\n\n    Parameters\n    ----------\n    camera : Ansys.ACT.Common.Graphics.MechanicalCameraWrapper\n        The camera object to set the view.\n    graphics : Ansys.ACT.Common.Graphics.MechanicalGraphicsWrapper\n        The graphics object to export the image.\n    graphics_image_export_settings : Ansys.Mechanical.Graphics.GraphicsImageExportSettings\n        The settings for exporting the image.\n    image_output_path : Path\n        The path to save the exported image.\n    image_name : str\n        The name of the exported image file.\n    \"\"\"\n    # Set the camera to fit the mesh\n    camera.SetFit()\n    # Export the mesh image with the specified settings\n    image_path = image_output_path / image_name\n    graphics.ExportImage(\n        str(image_path), image_export_format, graphics_image_export_settings\n    )\n    # Display the exported mesh image\n    display_image(image_path)\n\n\ndef display_image(\n    image_path: str,\n    pyplot_figsize_coordinates: tuple = (16, 9),\n    plot_xticks: list = [],\n    plot_yticks: list = [],\n    plot_axis: str = \"off\",\n) -> None:\n    \"\"\"Display the image with the specified parameters.\n\n    Parameters\n    ----------\n    image_path : str\n        The path to the image file to display.\n    pyplot_figsize_coordinates : tuple\n        The size of the figure in inches (width, height).\n    plot_xticks : list\n        The x-ticks to display on the plot.\n    plot_yticks : list\n        The y-ticks to display on the plot.\n    plot_axis : str\n        The axis visibility setting ('on' or 'off').\n    \"\"\"\n    # Set the figure size based on the coordinates specified\n    plt.figure(figsize=pyplot_figsize_coordinates)\n    # Read the image from the file into an array\n    plt.imshow(mpimg.imread(image_path))\n    # Get or set the current tick locations and labels of the x-axis\n    plt.xticks(plot_xticks)\n    # Get or set the current tick locations and labels of the y-axis\n    plt.yticks(plot_yticks)\n    # Turn off the axis\n    plt.axis(plot_axis)\n    # Display the figure\n    plt.show()"
      ]
    },
    {
      "cell_type": "markdown",
      "metadata": {},
      "source": [
        "## Configure graphics for image export\n\n"
      ]
    },
    {
      "cell_type": "code",
      "execution_count": null,
      "metadata": {
        "collapsed": false
      },
      "outputs": [],
      "source": [
        "graphics = app.Graphics\ncamera = graphics.Camera\n\n# Set the camera orientation to the front view\ncamera.SetSpecificViewOrientation(ViewOrientationType.Front)\n\n# Set the image export format and settings\nimage_export_format = GraphicsImageExportFormat.PNG\nsettings_720p = Ansys.Mechanical.Graphics.GraphicsImageExportSettings()\nsettings_720p.Resolution = GraphicsResolutionType.EnhancedResolution\nsettings_720p.Background = GraphicsBackgroundType.White\nsettings_720p.Width = 1280\nsettings_720p.Height = 720\nsettings_720p.CurrentGraphicsDisplay = False\n\n# Rotate the camera on the y-axis\ncamera.Rotate(180, CameraAxisType.ScreenY)"
      ]
    },
    {
      "cell_type": "markdown",
      "metadata": {},
      "source": [
        "## Download the geometry and material files\n\n"
      ]
    },
    {
      "cell_type": "code",
      "execution_count": null,
      "metadata": {
        "collapsed": false
      },
      "outputs": [],
      "source": [
        "# Download the geometry and material files from the specified paths\ngeometry_path = download_file(\"example_07_td43_wear.agdb\", \"pymechanical\", \"00_basic\")\nmat1_path = download_file(\"example_07_Mat_Copper.xml\", \"pymechanical\", \"00_basic\")\nmat2_path = download_file(\"example_07_Mat_Steel.xml\", \"pymechanical\", \"00_basic\")"
      ]
    },
    {
      "cell_type": "markdown",
      "metadata": {},
      "source": [
        "## Import the geometry\n\n"
      ]
    },
    {
      "cell_type": "code",
      "execution_count": null,
      "metadata": {
        "collapsed": false
      },
      "outputs": [],
      "source": [
        "# Define the model\nmodel = app.Model\n\n# Add a geometry import to the geometry import group\ngeometry_import = model.GeometryImportGroup.AddGeometryImport()\n\n# Set the geometry import settings\ngeometry_import_format = (\n    Ansys.Mechanical.DataModel.Enums.GeometryImportPreference.Format.Automatic\n)\ngeometry_import_preferences = Ansys.ACT.Mechanical.Utilities.GeometryImportPreferences()\ngeometry_import_preferences.ProcessNamedSelections = True\ngeometry_import_preferences.ProcessCoordinateSystems = True\n\n# Import the geometry using the specified settings\ngeometry_import.Import(\n    geometry_path, geometry_import_format, geometry_import_preferences\n)\n\n# Visualize the model in 3D\napp.plot()"
      ]
    },
    {
      "cell_type": "markdown",
      "metadata": {},
      "source": [
        "## Import the materials\n\n"
      ]
    },
    {
      "cell_type": "code",
      "execution_count": null,
      "metadata": {
        "collapsed": false
      },
      "outputs": [],
      "source": [
        "# Define the materials for the model\nmaterials = model.Materials\n\n# Import the copper and steel materials\nmaterials.Import(mat1_path)\nmaterials.Import(mat2_path)"
      ]
    },
    {
      "cell_type": "markdown",
      "metadata": {},
      "source": [
        "## Set up the analysis\n\n"
      ]
    },
    {
      "cell_type": "code",
      "execution_count": null,
      "metadata": {
        "collapsed": false
      },
      "outputs": [],
      "source": [
        "# Set up the unit system\napp.ExtAPI.Application.ActiveUnitSystem = MechanicalUnitSystem.StandardNMM"
      ]
    },
    {
      "cell_type": "markdown",
      "metadata": {},
      "source": [
        "Store all main tree nodes as variables\n\n"
      ]
    },
    {
      "cell_type": "code",
      "execution_count": null,
      "metadata": {
        "collapsed": false
      },
      "outputs": [],
      "source": [
        "geometry = model.Geometry\ncoordinate_systems = model.CoordinateSystems\nconnections = model.Connections\nmesh = model.Mesh\nnamed_selections = model.NamedSelections"
      ]
    },
    {
      "cell_type": "markdown",
      "metadata": {},
      "source": [
        "Add the static structural analysis\n\n"
      ]
    },
    {
      "cell_type": "code",
      "execution_count": null,
      "metadata": {
        "collapsed": false
      },
      "outputs": [],
      "source": [
        "model.AddStaticStructuralAnalysis()\nstatic_structural_analysis = model.Analyses[0]\n\n# Store the static structural analysis solution\nstat_struct_soln = static_structural_analysis.Solution\n\n# Get the analysis settings for the static structural analysis\nanalysis_settings: (\n    Ansys.ACT.Automation.Mechanical.AnalysisSettings.ANSYSAnalysisSettings\n) = static_structural_analysis.Children[0]"
      ]
    },
    {
      "cell_type": "markdown",
      "metadata": {},
      "source": [
        "Store the named selections as variables\n\n"
      ]
    },
    {
      "cell_type": "code",
      "execution_count": null,
      "metadata": {
        "collapsed": false
      },
      "outputs": [],
      "source": [
        "def get_named_selection(name: str):\n    \"\"\"Get the named selection by name.\"\"\"\n    return app.DataModel.GetObjectsByName(name)[0]\n\n\ncurve_named_selection = get_named_selection(\"curve\")\ndia_named_selection = get_named_selection(\"dia\")\nver_edge1 = get_named_selection(\"v1\")\nver_edge2 = get_named_selection(\"v2\")\nhor_edge1 = get_named_selection(\"h1\")\nhor_edge2 = get_named_selection(\"h2\")\nall_bodies_named_selection = get_named_selection(\"all_bodies\")"
      ]
    },
    {
      "cell_type": "markdown",
      "metadata": {},
      "source": [
        "Assign material to the bodies\n\n"
      ]
    },
    {
      "cell_type": "code",
      "execution_count": null,
      "metadata": {
        "collapsed": false
      },
      "outputs": [],
      "source": [
        "# Set the model's 2D behavior to axi-symmetric\ngeometry.Model2DBehavior = Model2DBehavior.AxiSymmetric\n\n\ndef set_material_and_dimension(\n    surface_child_index, material, dimension=ShellBodyDimension.Two_D\n):\n    \"\"\"Set the material and dimension for a given surface.\"\"\"\n    surface: Ansys.ACT.Automation.Mechanical.Body = geometry.Children[\n        surface_child_index\n    ].Children[0]\n    surface.Material = material\n    surface.Dimension = dimension\n\n\n# Set the material and dimensions for the surface\nset_material_and_dimension(0, \"Steel\")\nset_material_and_dimension(1, \"Copper\")"
      ]
    },
    {
      "cell_type": "markdown",
      "metadata": {},
      "source": [
        "Configure settings for the contact region\n\n"
      ]
    },
    {
      "cell_type": "code",
      "execution_count": null,
      "metadata": {
        "collapsed": false
      },
      "outputs": [],
      "source": [
        "# Add a contact region between the hemispherical ring and the flat ring\ncontact_region = connections.AddContactRegion()\n# Set the source and target locations for the contact region\ncontact_region.SourceLocation = named_selections.Children[6]\ncontact_region.TargetLocation = named_selections.Children[3]\n# Set contact region properties\ncontact_region.ContactType = ContactType.Frictionless\ncontact_region.Behavior = ContactBehavior.Asymmetric\ncontact_region.ContactFormulation = ContactFormulation.AugmentedLagrange\ncontact_region.DetectionMethod = ContactDetectionPoint.NodalNormalToTarget"
      ]
    },
    {
      "cell_type": "markdown",
      "metadata": {},
      "source": [
        "Add a command snippet to use Archard Wear Model\n\n"
      ]
    },
    {
      "cell_type": "code",
      "execution_count": null,
      "metadata": {
        "collapsed": false
      },
      "outputs": [],
      "source": [
        "archard_wear_model = \"\"\"keyo,cid,5,1\nkeyo,cid,10,2\npi=acos(-1)\nslide_velocity=1e5\nUring_offset=100\nkcopper=10e-13*slide_velocity*2*pi*Uring_offset\nTB,WEAR,cid,,,ARCD\nTBFIELD,TIME,0\nTBDATA,1,0,1,1,0,0\nTBFIELD,TIME,1\nTBDATA,1,0,1,1,0,0\nTBFIELD,TIME,1.01\nTBDATA,1,kcopper,1,1,0,0\nTBFIELD,TIME,4\nTBDATA,1,kcopper,1,1,0,0\"\"\"\ncmd1 = contact_region.AddCommandSnippet()\ncmd1.AppendText(archard_wear_model)"
      ]
    },
    {
      "cell_type": "markdown",
      "metadata": {},
      "source": [
        "Insert a remote point\n\n"
      ]
    },
    {
      "cell_type": "code",
      "execution_count": null,
      "metadata": {
        "collapsed": false
      },
      "outputs": [],
      "source": [
        "# Add a remote point to the model\nremote_point = model.AddRemotePoint()\n# Set the remote point location to the center of the hemispherical ring\nremote_point.Location = dia_named_selection\nremote_point.Behavior = LoadBehavior.Rigid"
      ]
    },
    {
      "cell_type": "markdown",
      "metadata": {},
      "source": [
        "## Set properties for the mesh\n\n"
      ]
    },
    {
      "cell_type": "code",
      "execution_count": null,
      "metadata": {
        "collapsed": false
      },
      "outputs": [],
      "source": [
        "# Set the mesh element order and size\nmesh.ElementOrder = ElementOrder.Linear\nmesh.ElementSize = Quantity(\"1 [mm]\")"
      ]
    },
    {
      "cell_type": "markdown",
      "metadata": {},
      "source": [
        "Create a function to add edge sizing and properties\n\n"
      ]
    },
    {
      "cell_type": "code",
      "execution_count": null,
      "metadata": {
        "collapsed": false
      },
      "outputs": [],
      "source": [
        "def add_edge_sizing_and_properties(\n    mesh: Ansys.ACT.Automation.Mechanical.MeshControls.Mesh,\n    location,\n    divisions,\n    sizing_type=SizingType.NumberOfDivisions,\n):\n    \"\"\"Set the sizing properties for a given mesh.\n\n    Parameters\n    ----------\n    mesh : Ansys.Mechanical.DataModel.Mesh\n        The mesh object to set the properties for.\n    location : Ansys.Mechanical.DataModel.NamedSelection\n        The location of the edge to set the sizing for.\n    divisions : int\n        The number of divisions for the edge.\n    sizing_type : SizingType\n        The type of sizing to apply (default is NumberOfDivisions).\n    \"\"\"\n    edge_sizing = mesh.AddSizing()\n    edge_sizing.Location = location\n    edge_sizing.Type = sizing_type\n    edge_sizing.NumberOfDivisions = divisions"
      ]
    },
    {
      "cell_type": "markdown",
      "metadata": {},
      "source": [
        "Add edge sizing and properties to the mesh for each named selection\n\n"
      ]
    },
    {
      "cell_type": "code",
      "execution_count": null,
      "metadata": {
        "collapsed": false
      },
      "outputs": [],
      "source": [
        "add_edge_sizing_and_properties(mesh, hor_edge1, 70)\nadd_edge_sizing_and_properties(mesh, hor_edge2, 70)\nadd_edge_sizing_and_properties(mesh, ver_edge1, 35)\nadd_edge_sizing_and_properties(mesh, ver_edge2, 35)\nadd_edge_sizing_and_properties(mesh, dia_named_selection, 40)\nadd_edge_sizing_and_properties(mesh, curve_named_selection, 60)"
      ]
    },
    {
      "cell_type": "markdown",
      "metadata": {},
      "source": [
        "Generate the mesh and display the image\n\n"
      ]
    },
    {
      "cell_type": "code",
      "execution_count": null,
      "metadata": {
        "collapsed": false
      },
      "outputs": [],
      "source": [
        "mesh.GenerateMesh()\nset_camera_and_display_image(camera, graphics, settings_720p, output_path, \"mesh.png\")"
      ]
    },
    {
      "cell_type": "markdown",
      "metadata": {},
      "source": [
        "## Set the analysis settings\n\n"
      ]
    },
    {
      "cell_type": "markdown",
      "metadata": {},
      "source": [
        "Create a function to set time steps for the analysis settings\n\n"
      ]
    },
    {
      "cell_type": "code",
      "execution_count": null,
      "metadata": {
        "collapsed": false
      },
      "outputs": [],
      "source": [
        "def set_time_steps(initial: str, min: str, max: str) -> None:\n    \"\"\"Set the time step properties for the analysis settings.\n\n    Parameters\n    ----------\n    initial : str\n        The initial time step value.\n    min : str\n        The minimum time step value.\n    max : str\n        The maximum time step value.\n    \"\"\"\n    analysis_settings.InitialTimeStep = Quantity(initial)\n    analysis_settings.MinimumTimeStep = Quantity(min)\n    analysis_settings.MaximumTimeStep = Quantity(max)"
      ]
    },
    {
      "cell_type": "markdown",
      "metadata": {},
      "source": [
        "Set the analysis settings for the static structural analysis\n\n"
      ]
    },
    {
      "cell_type": "code",
      "execution_count": null,
      "metadata": {
        "collapsed": false
      },
      "outputs": [],
      "source": [
        "analysis_settings.NumberOfSteps = 2\nanalysis_settings.CurrentStepNumber = 1\nanalysis_settings.AutomaticTimeStepping = AutomaticTimeStepping.On\nanalysis_settings.DefineBy = TimeStepDefineByType.Time\nset_time_steps(initial=\"0.1 [s]\", min=\"0.0001 [s]\", max=\"1 [s]\")\nanalysis_settings.CurrentStepNumber = 2\nanalysis_settings.Activate()\nanalysis_settings.StepEndTime = Quantity(\"4 [s]\")\nanalysis_settings.AutomaticTimeStepping = AutomaticTimeStepping.On\nanalysis_settings.DefineBy = TimeStepDefineByType.Time\nset_time_steps(initial=\"0.01 [s]\", min=\"0.000001 [s]\", max=\"0.02 [s]\")\nanalysis_settings.LargeDeflection = True"
      ]
    },
    {
      "cell_type": "markdown",
      "metadata": {},
      "source": [
        "## Insert loading and boundary conditions\n\n"
      ]
    },
    {
      "cell_type": "code",
      "execution_count": null,
      "metadata": {
        "collapsed": false
      },
      "outputs": [],
      "source": [
        "# Add a fixed support to the model\nfixed_support = static_structural_analysis.AddFixedSupport()\n# Set the fixed support location to the first horizontal edge\nfixed_support.Location = hor_edge1\n\n# Add a remote displacement to the model\nremote_displacement = static_structural_analysis.AddRemoteDisplacement()\n# Set the remote displacement location to the remote point\nremote_displacement.Location = remote_point\n# Add the values for the x-component and rotation about the z-axis\nremote_displacement.XComponent.Output.DiscreteValues = [Quantity(\"0[mm]\")]\nremote_displacement.RotationZ.Output.DiscreteValues = [Quantity(\"0[deg]\")]\n\n# Add a remote force to the model\nremote_force = static_structural_analysis.AddRemoteForce()\n# Set the remote force location to the remote point\nremote_force.Location = remote_point\n# Set the remote force values for the y-component\nremote_force.DefineBy = LoadDefineBy.Components\nremote_force.YComponent.Output.DiscreteValues = [Quantity(\"-150796320 [N]\")]\n\n#  Nonlinear adaptivity does not support contact criterion yet so a command snippet is used instead\nnonlinear_adaptivity = \"\"\"NLADAPTIVE,all,add,contact,wear,0.50\nNLADAPTIVE,all,on,all,all,1,,4\nNLADAPTIVE,all,list,all,all\"\"\"\n\n# Add the nonlinear adaptivity command snippet to the static structural analysis\ncmd2 = static_structural_analysis.AddCommandSnippet()\ncmd2.AppendText(nonlinear_adaptivity)\ncmd2.StepSelectionMode = SequenceSelectionType.All\n\n# Activate the static structural analysis and display the mesh image\nstatic_structural_analysis.Activate()\nset_camera_and_display_image(camera, graphics, settings_720p, output_path, \"mesh.png\")"
      ]
    },
    {
      "cell_type": "markdown",
      "metadata": {},
      "source": [
        "## Add results to the solution\n\n"
      ]
    },
    {
      "cell_type": "code",
      "execution_count": null,
      "metadata": {
        "collapsed": false
      },
      "outputs": [],
      "source": [
        "def set_properties_for_result(\n    result: Ansys.ACT.Automation.Mechanical.Results.StressResults.StressResult,\n    display_time,\n    orientation_type=NormalOrientationType.YAxis,\n    display_option=ResultAveragingType.Unaveraged,\n):\n    \"\"\"Set the properties for a given result.\"\"\"\n    result.NormalOrientation = orientation_type\n    result.DisplayTime = Quantity(display_time)\n    result.DisplayOption = display_option\n\n\n# Add total deformation to the solution\ntotal_deformation = stat_struct_soln.AddTotalDeformation()\n\n# Add normal stress to the solution\nnormal_stress1 = stat_struct_soln.AddNormalStress()\nset_properties_for_result(normal_stress1, display_time=\"1 [s]\")\nnormal_stress2 = stat_struct_soln.AddNormalStress()\nset_properties_for_result(normal_stress1, display_time=\"4 [s]\")\n\n# Add a contact tool to the solution\ncontact_tool = stat_struct_soln.AddContactTool()\ncontact_tool.ScopingMethod = GeometryDefineByType.Geometry\n# Add selections for the contact tool\nselection1 = app.ExtAPI.SelectionManager.AddSelection(all_bodies_named_selection)\nselection2 = app.ExtAPI.SelectionManager.CurrentSelection\n# Set the contact tool location to the current selection\ncontact_tool.Location = selection2\n# Clear the selection\napp.ExtAPI.SelectionManager.ClearSelection()"
      ]
    },
    {
      "cell_type": "markdown",
      "metadata": {},
      "source": [
        "Add contact pressure to the contact tool\n\n"
      ]
    },
    {
      "cell_type": "code",
      "execution_count": null,
      "metadata": {
        "collapsed": false
      },
      "outputs": [],
      "source": [
        "def add_contact_pressure(\n    contact_tool: Ansys.ACT.Automation.Mechanical.PostContactTool, display_time\n):\n    \"\"\"Add a contact pressure to the contact tool.\"\"\"\n    contact_pressure = contact_tool.AddPressure()\n    contact_pressure.DisplayTime = Quantity(display_time)\n\n\n# Add pressure to the contact tool\nadd_contact_pressure(contact_tool, display_time=\"0 [s]\")\nadd_contact_pressure(contact_tool, display_time=\"4 [s]\")"
      ]
    },
    {
      "cell_type": "markdown",
      "metadata": {},
      "source": [
        "## Solve the solution\n\n"
      ]
    },
    {
      "cell_type": "code",
      "execution_count": null,
      "metadata": {
        "collapsed": false
      },
      "outputs": [],
      "source": [
        "stat_struct_soln.Solve(True)"
      ]
    },
    {
      "cell_type": "markdown",
      "metadata": {},
      "source": [
        "## Postprocessing\n\n"
      ]
    },
    {
      "cell_type": "markdown",
      "metadata": {},
      "source": [
        "Activate the first normal stress result and display the image\n\n"
      ]
    },
    {
      "cell_type": "code",
      "execution_count": null,
      "metadata": {
        "collapsed": false
      },
      "outputs": [],
      "source": [
        "app.Tree.Activate([normal_stress1])\nset_camera_and_display_image(\n    camera, graphics, settings_720p, output_path, \"normal_stress.png\"\n)"
      ]
    },
    {
      "cell_type": "markdown",
      "metadata": {},
      "source": [
        "Create a function to update the animation frame\n\n"
      ]
    },
    {
      "cell_type": "code",
      "execution_count": null,
      "metadata": {
        "collapsed": false
      },
      "outputs": [],
      "source": [
        "def update_animation(frame: int) -> list[mpimg.AxesImage]:\n    \"\"\"Update the animation frame for the GIF.\n\n    Parameters\n    ----------\n    frame : int\n        The frame number to update the animation.\n\n    Returns\n    -------\n    list[mpimg.AxesImage]\n        A list containing the updated image for the animation.\n    \"\"\"\n    # Seeks to the given frame in this sequence file\n    gif.seek(frame)\n    # Set the image array to the current frame of the GIF\n    image.set_data(gif.convert(\"RGBA\"))\n    # Return the updated image\n    return [image]"
      ]
    },
    {
      "cell_type": "markdown",
      "metadata": {},
      "source": [
        "Display the total deformation animation\n\n"
      ]
    },
    {
      "cell_type": "code",
      "execution_count": null,
      "metadata": {
        "collapsed": false
      },
      "outputs": [],
      "source": [
        "# Set the animation export format\nanimation_export_format = (\n    Ansys.Mechanical.DataModel.Enums.GraphicsAnimationExportFormat.GIF\n)\n# Set the animation export settings\nsettings_720p = Ansys.Mechanical.Graphics.AnimationExportSettings()\nsettings_720p.Width = 1280\nsettings_720p.Height = 720\n\n# Export the animation\ntotal_deformation_gif = output_path / \"total_deformation.gif\"\ntotal_deformation.ExportAnimation(\n    str(total_deformation_gif), animation_export_format, settings_720p\n)\n\n# Open the GIF file and create an animation\ngif = Image.open(total_deformation_gif)\n# Set the subplots for the animation and turn off the axis\nfigure, axes = plt.subplots(figsize=(16, 9))\naxes.axis(\"off\")\n# Change the color of the image\nimage = axes.imshow(gif.convert(\"RGBA\"))\n\n# Create the animation using the figure, update_animation function, and the GIF frames\n# Set the interval between frames to 200 milliseconds and repeat the animation\nFuncAnimation(\n    figure,\n    update_animation,\n    frames=range(gif.n_frames),\n    interval=200,\n    repeat=True,\n    blit=True,\n)\n\n# Show the animation\nplt.show()"
      ]
    },
    {
      "cell_type": "markdown",
      "metadata": {},
      "source": [
        "## Print the project tree\n\n"
      ]
    },
    {
      "cell_type": "code",
      "execution_count": null,
      "metadata": {
        "collapsed": false
      },
      "outputs": [],
      "source": [
        "app.print_tree()"
      ]
    },
    {
      "cell_type": "markdown",
      "metadata": {},
      "source": [
        "## Clean up the project\n\n"
      ]
    },
    {
      "cell_type": "code",
      "execution_count": null,
      "metadata": {
        "collapsed": false
      },
      "outputs": [],
      "source": [
        "# Save the project file\nmechdat_file = output_path / \"contact_wear.mechdat\"\napp.save(str(mechdat_file))\n\n# Close the app\napp.close()\n\n# Delete the downloaded files\ndelete_downloads()"
      ]
    }
  ],
  "metadata": {
    "kernelspec": {
      "display_name": "Python 3",
      "language": "python",
      "name": "python3"
    },
    "language_info": {
      "codemirror_mode": {
        "name": "ipython",
        "version": 3
      },
      "file_extension": ".py",
      "mimetype": "text/x-python",
      "name": "python",
      "nbconvert_exporter": "python",
      "pygments_lexer": "ipython3",
      "version": "3.12.12"
    }
  },
  "nbformat": 4,
  "nbformat_minor": 0
}