{
  "cells": [
    {
      "cell_type": "markdown",
      "metadata": {},
      "source": [
        "\n# Shape Optimization of a Bracket\n\nThis example demonstrates how to insert a Static Structural analysis\ninto a new Mechanical session and execute a sequence of Python scripting\ncommands that define and solve a shape optimization analysis of bracket.\nScripts then evaluate the following results: deformation and\noptimized shape.\n"
      ]
    },
    {
      "cell_type": "code",
      "execution_count": null,
      "metadata": {
        "collapsed": false
      },
      "outputs": [],
      "source": [
        "## %%\n# Import the necessary libraries\n# ~~~~~~~~~~~~~~~~~~~~~~~~~~~~~~\n\nfrom pathlib import Path\nfrom typing import TYPE_CHECKING\n\nfrom ansys.mechanical.core import App\nfrom ansys.mechanical.core.examples import delete_downloads, download_file\nfrom matplotlib import image as mpimg\nfrom matplotlib import pyplot as plt\n\nif TYPE_CHECKING:\n    import Ansys"
      ]
    },
    {
      "cell_type": "markdown",
      "metadata": {},
      "source": [
        "## Initialize the embedded application\n\n"
      ]
    },
    {
      "cell_type": "code",
      "execution_count": null,
      "metadata": {
        "collapsed": false
      },
      "outputs": [],
      "source": [
        "app = App(globals=globals())\nprint(app)"
      ]
    },
    {
      "cell_type": "markdown",
      "metadata": {},
      "source": [
        "## Create functions to set camera and display images\n\n"
      ]
    },
    {
      "cell_type": "code",
      "execution_count": null,
      "metadata": {
        "collapsed": false
      },
      "outputs": [],
      "source": [
        "# Set the path for the output files (images, gifs, mechdat)\noutput_path = Path.cwd() / \"out\"\n\n\ndef display_image(\n    image_path: str,\n    pyplot_figsize_coordinates: tuple = (16, 9),\n    plot_xticks: list = [],\n    plot_yticks: list = [],\n    plot_axis: str = \"off\",\n) -> None:\n    \"\"\"Display the image with the specified parameters.\n\n    Parameters\n    ----------\n    image_path : str\n        The path to the image file to display.\n    pyplot_figsize_coordinates : tuple\n        The size of the figure in inches (width, height).\n    plot_xticks : list\n        The x-ticks to display on the plot.\n    plot_yticks : list\n        The y-ticks to display on the plot.\n    plot_axis : str\n        The axis visibility setting ('on' or 'off').\n    \"\"\"\n    # Set the figure size based on the coordinates specified\n    plt.figure(figsize=pyplot_figsize_coordinates)\n    # Read the image from the file into an array\n    image_path = str(output_path / image_path)\n    plt.imshow(mpimg.imread(image_path))\n    # Get or set the current tick locations and labels of the x-axis\n    plt.xticks(plot_xticks)\n    # Get or set the current tick locations and labels of the y-axis\n    plt.yticks(plot_yticks)\n    # Turn off the axis\n    plt.axis(plot_axis)\n    # Display the figure\n    plt.show()"
      ]
    },
    {
      "cell_type": "markdown",
      "metadata": {},
      "source": [
        "## Configure graphics for image export\n\n"
      ]
    },
    {
      "cell_type": "code",
      "execution_count": null,
      "metadata": {
        "collapsed": false
      },
      "outputs": [],
      "source": [
        "# Define the graphics and camera\ngraphics = app.Graphics\ncamera = graphics.Camera\n\n# Set the camera orientation to the isometric view and set the camera to fit the model\ncamera.SetSpecificViewOrientation(ViewOrientationType.Iso)\ncamera.SetFit()\n\n# Set the image export format and settings\nimage_export_format = GraphicsImageExportFormat.PNG\nsettings_720p = Ansys.Mechanical.Graphics.GraphicsImageExportSettings()\nsettings_720p.Resolution = (\n    Ansys.Mechanical.DataModel.Enums.GraphicsResolutionType.EnhancedResolution\n)\nsettings_720p.Background = Ansys.Mechanical.DataModel.Enums.GraphicsBackgroundType.White\nsettings_720p.Width = 1280\nsettings_720p.Height = 720\nsettings_720p.CurrentGraphicsDisplay = False"
      ]
    },
    {
      "cell_type": "markdown",
      "metadata": {},
      "source": [
        "## Download the required files\n\n"
      ]
    },
    {
      "cell_type": "code",
      "execution_count": null,
      "metadata": {
        "collapsed": false
      },
      "outputs": [],
      "source": [
        "# Download the geometry file\ngeometry_path = download_file(\"bracket_model.agdb\", \"pymechanical\", \"embedding\")"
      ]
    },
    {
      "cell_type": "markdown",
      "metadata": {},
      "source": [
        "## Import the geometry\n\n"
      ]
    },
    {
      "cell_type": "code",
      "execution_count": null,
      "metadata": {
        "collapsed": false
      },
      "outputs": [],
      "source": [
        "# Define the model\nmodel = app.Model\n\n# Add the geometry import to the geometry import group\ngeometry_import_group = model.GeometryImportGroup\ngeometry_import = geometry_import_group.AddGeometryImport()\n\n# Set the geometry import format and settings\ngeometry_import_format = (\n    Ansys.Mechanical.DataModel.Enums.GeometryImportPreference.Format.Automatic\n)\ngeometry_import_preferences = Ansys.ACT.Mechanical.Utilities.GeometryImportPreferences()\ngeometry_import_preferences.ProcessNamedSelections = True\ngeometry_import_preferences.NamedSelectionKey = \"\"\ngeometry_import_preferences.ProcessMaterialProperties = True\ngeometry_import_preferences.ProcessCoordinateSystems = True\n\n# Import the geometry with the specified settings\ngeometry_import.Import(\n    geometry_path, geometry_import_format, geometry_import_preferences\n)\n\n# Visualize the model in 3D\napp.plot()"
      ]
    },
    {
      "cell_type": "markdown",
      "metadata": {},
      "source": [
        "## Define Named Selections\nSpecify variables for named selection objects\n\n"
      ]
    },
    {
      "cell_type": "code",
      "execution_count": null,
      "metadata": {
        "collapsed": false
      },
      "outputs": [],
      "source": [
        "NS_GRP = ExtAPI.DataModel.Project.Model.NamedSelections\nBOUNDARY_COND_NS = [\n    x for x in ExtAPI.DataModel.Tree.AllObjects if x.Name == \"boundary_cond\"\n][0]\nLOADING_NS = [x for x in ExtAPI.DataModel.Tree.AllObjects if x.Name == \"loading\"][0]\nEXCLUSON_REGION_NS = [\n    x for x in ExtAPI.DataModel.Tree.AllObjects if x.Name == \"exclusion_region\"\n][0]\nBRACKET_NS = [x for x in ExtAPI.DataModel.Tree.AllObjects if x.Name == \"bracket\"][0]"
      ]
    },
    {
      "cell_type": "markdown",
      "metadata": {},
      "source": [
        "## Define the mesh settings and generate the mesh\n\n"
      ]
    },
    {
      "cell_type": "code",
      "execution_count": null,
      "metadata": {
        "collapsed": false
      },
      "outputs": [],
      "source": [
        "mesh = app.Model.Mesh\nautomatic_method = mesh.AddAutomaticMethod()\nautomatic_method.ScopingMethod = GeometryDefineByType.Component\n\nselection = NS_GRP.Children[3]\nautomatic_method.Location = selection\nautomatic_method.Method = MethodType.AllTriAllTet\nautomatic_method.ElementOrder = ElementOrder.Linear\n\nsizing = mesh.AddSizing()\nsizing.ScopingMethod = GeometryDefineByType.Component\nselection = NS_GRP.Children[3]\nsizing.Location = selection\nsizing.ElementSize = Quantity(6e-3, \"m\")\n\nmesh.GenerateMesh()\n\n# Display mesh\n\napp.Tree.Activate([mesh])\ncamera.SetFit()\ngraphics.ExportImage(str(output_path / \"mesh.png\"), image_export_format, settings_720p)\ndisplay_image(\"mesh.png\")"
      ]
    },
    {
      "cell_type": "markdown",
      "metadata": {},
      "source": [
        "## Define Analysis\nAdd Structural analysis\n\n"
      ]
    },
    {
      "cell_type": "code",
      "execution_count": null,
      "metadata": {
        "collapsed": false
      },
      "outputs": [],
      "source": [
        "model = app.Model\nstatic_structural_analysis = model.AddStaticStructuralAnalysis()"
      ]
    },
    {
      "cell_type": "markdown",
      "metadata": {},
      "source": [
        "## Define loads and boundary conditions\n\n"
      ]
    },
    {
      "cell_type": "code",
      "execution_count": null,
      "metadata": {
        "collapsed": false
      },
      "outputs": [],
      "source": [
        "fixed_support = static_structural_analysis.AddFixedSupport()\nselection = NS_GRP.Children[0]\nfixed_support.Location = selection\n\nforce = static_structural_analysis.AddForce()\nselection = NS_GRP.Children[1]\nforce.Location = selection\nforce.DefineBy = LoadDefineBy.Components\nforce.ZComponent.Output.SetDiscreteValue(0, Quantity(25000, \"N\"))"
      ]
    },
    {
      "cell_type": "markdown",
      "metadata": {},
      "source": [
        "## Analysis settings\n\n"
      ]
    },
    {
      "cell_type": "code",
      "execution_count": null,
      "metadata": {
        "collapsed": false
      },
      "outputs": [],
      "source": [
        "solution = static_structural_analysis.Solution"
      ]
    },
    {
      "cell_type": "markdown",
      "metadata": {},
      "source": [
        "## Insert results\n\n"
      ]
    },
    {
      "cell_type": "code",
      "execution_count": null,
      "metadata": {
        "collapsed": false
      },
      "outputs": [],
      "source": [
        "total_deformation = solution.AddTotalDeformation()"
      ]
    },
    {
      "cell_type": "markdown",
      "metadata": {},
      "source": [
        "## Solve\n\n"
      ]
    },
    {
      "cell_type": "code",
      "execution_count": null,
      "metadata": {
        "collapsed": false
      },
      "outputs": [],
      "source": [
        "solution.Solve(True)\nsolution_status = solution.Status"
      ]
    },
    {
      "cell_type": "markdown",
      "metadata": {},
      "source": [
        "## Show messages\n\n"
      ]
    },
    {
      "cell_type": "code",
      "execution_count": null,
      "metadata": {
        "collapsed": false
      },
      "outputs": [],
      "source": [
        "# Print all messages from Mechanical\napp.messages.show()"
      ]
    },
    {
      "cell_type": "markdown",
      "metadata": {},
      "source": [
        "## Results\nTotal deformation\n\n"
      ]
    },
    {
      "cell_type": "code",
      "execution_count": null,
      "metadata": {
        "collapsed": false
      },
      "outputs": [],
      "source": [
        "app.Tree.Activate([total_deformation])\ncamera.SetFit()\ngraphics.ExportImage(\n    str(output_path / \"total_deformation.png\"), image_export_format, settings_720p\n)\ndisplay_image(\"total_deformation.png\")"
      ]
    },
    {
      "cell_type": "markdown",
      "metadata": {},
      "source": [
        "## Define Analysis\nAdd Topology Optimization Analysis\n\n"
      ]
    },
    {
      "cell_type": "code",
      "execution_count": null,
      "metadata": {
        "collapsed": false
      },
      "outputs": [],
      "source": [
        "topology_optimization = model.AddTopologyOptimizationAnalysis()\ntopology_optimization.ImportLoad(static_structural_analysis)"
      ]
    },
    {
      "cell_type": "markdown",
      "metadata": {},
      "source": [
        "## Define Optimization Settings\nSpecify the shape optimization region\n\n"
      ]
    },
    {
      "cell_type": "code",
      "execution_count": null,
      "metadata": {
        "collapsed": false
      },
      "outputs": [],
      "source": [
        "optimization_region = DataModel.GetObjectsByType(\n    DataModelObjectCategory.OptimizationRegion\n)[0]\nselection = NS_GRP.Children[3]\noptimization_region.DesignRegionLocation = selection\noptimization_region.ExclusionScopingMethod = GeometryDefineByType.Component\nselection = NS_GRP.Children[2]\noptimization_region.ExclusionRegionLocation = selection\n\noptimization_region.OptimizationType = OptimizationType.Shape\noptimization_region.ShapeMoveLimitControl = TopoPropertyControlType.Manual\noptimization_region.MorphingIterationMoveLimit = 0.002\noptimization_region.MaxCumulatedDisplacementControl = TopoPropertyControlType.Manual\noptimization_region.MorphingTotalMoveLimit = 0.02\noptimization_region.MeshDeformationToleranceControl = TopoPropertyControlType.Manual"
      ]
    },
    {
      "cell_type": "markdown",
      "metadata": {},
      "source": [
        "## Define Objective\nSpecify objective as minimizing volume\n\n"
      ]
    },
    {
      "cell_type": "code",
      "execution_count": null,
      "metadata": {
        "collapsed": false
      },
      "outputs": [],
      "source": [
        "objective_type = DataModel.GetObjectsByType(DataModelObjectCategory.Objective)[0]\nobjective_type.Worksheet.SetObjectiveType(0, ObjectiveType.MinimizeVolume)"
      ]
    },
    {
      "cell_type": "markdown",
      "metadata": {},
      "source": [
        "## Define Compliance Settings\nSpecify compliance as response constraint\n\n"
      ]
    },
    {
      "cell_type": "code",
      "execution_count": null,
      "metadata": {
        "collapsed": false
      },
      "outputs": [],
      "source": [
        "compliance_constraint = topology_optimization.AddComplianceConstraint()\ncompliance_constraint.ComplianceLimit.Output.SetDiscreteValue(0, Quantity(0.27, \"J\"))\n\nmass_constraint = DataModel.GetObjectsByName(\"Response Constraint\")\nDataModel.Remove(mass_constraint)"
      ]
    },
    {
      "cell_type": "markdown",
      "metadata": {},
      "source": [
        "## Analysis settings\n\n"
      ]
    },
    {
      "cell_type": "code",
      "execution_count": null,
      "metadata": {
        "collapsed": false
      },
      "outputs": [],
      "source": [
        "topo_solution = topology_optimization.Solution"
      ]
    },
    {
      "cell_type": "markdown",
      "metadata": {},
      "source": [
        "## Insert results\n\n"
      ]
    },
    {
      "cell_type": "code",
      "execution_count": null,
      "metadata": {
        "collapsed": false
      },
      "outputs": [],
      "source": [
        "# Topology_Density = SOLN.AddTopologyDensity()\ntopology_density = DataModel.GetObjectsByName(\"Topology Density\")[0]"
      ]
    },
    {
      "cell_type": "markdown",
      "metadata": {},
      "source": [
        "## Solve: shape Optimization Simulation\n\n"
      ]
    },
    {
      "cell_type": "code",
      "execution_count": null,
      "metadata": {
        "collapsed": false
      },
      "outputs": [],
      "source": [
        "topo_solution.Solve(True)\ntopo_solution_status = topo_solution.Status"
      ]
    },
    {
      "cell_type": "markdown",
      "metadata": {},
      "source": [
        "## Show messages\n\n"
      ]
    },
    {
      "cell_type": "code",
      "execution_count": null,
      "metadata": {
        "collapsed": false
      },
      "outputs": [],
      "source": [
        "# Print all messages from Mechanical\napp.messages.show()"
      ]
    },
    {
      "cell_type": "markdown",
      "metadata": {},
      "source": [
        "## Results\nTopology Density\n\n"
      ]
    },
    {
      "cell_type": "code",
      "execution_count": null,
      "metadata": {
        "collapsed": false
      },
      "outputs": [],
      "source": [
        "app.Tree.Activate([topology_density])\ncamera.SetFit()\ngraphics.ExportImage(\n    str(output_path / \"topology_density.png\"), image_export_format, settings_720p\n)\ndisplay_image(\"topology_density.png\")"
      ]
    },
    {
      "cell_type": "markdown",
      "metadata": {},
      "source": [
        "## Cleanup\nSave project\n\n"
      ]
    },
    {
      "cell_type": "code",
      "execution_count": null,
      "metadata": {
        "collapsed": false
      },
      "outputs": [],
      "source": [
        "mechdat_file = output_path / \"shape-optimization.mechdat\"\napp.save(str(mechdat_file))\n\n# Close the app\napp.close()\n\n# delete example file\ndelete_downloads()"
      ]
    }
  ],
  "metadata": {
    "kernelspec": {
      "display_name": "Python 3",
      "language": "python",
      "name": "python3"
    },
    "language_info": {
      "codemirror_mode": {
        "name": "ipython",
        "version": 3
      },
      "file_extension": ".py",
      "mimetype": "text/x-python",
      "name": "python",
      "nbconvert_exporter": "python",
      "pygments_lexer": "ipython3",
      "version": "3.12.12"
    }
  },
  "nbformat": 4,
  "nbformat_minor": 0
}