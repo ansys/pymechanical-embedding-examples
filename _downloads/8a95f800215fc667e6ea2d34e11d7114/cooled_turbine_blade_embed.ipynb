{
  "cells": [
    {
      "cell_type": "markdown",
      "metadata": {},
      "source": [
        "\n# Thermal-Stress Analysis of a Cooled Turbine Blade\n\nThis example demonstrate 3D thermal-stress analysis of a cooled turbine\nBlade. Convection, mass flow rate, temperatures are applied to Thermal\nfluid bodies. Adiabatic surfaces are fixed. Thermal stress analysis is\nsolved and post-process temperature distribution and equivalent von-mises\nstress for solid region.\n"
      ]
    },
    {
      "cell_type": "markdown",
      "metadata": {},
      "source": [
        "## Import necessary libraries\n\n"
      ]
    },
    {
      "cell_type": "code",
      "execution_count": null,
      "metadata": {
        "collapsed": false
      },
      "outputs": [],
      "source": [
        "import os\nimport os.path\n\nfrom ansys.mechanical.core import App\nfrom ansys.mechanical.core.embedding import AddinConfiguration\nfrom ansys.mechanical.core.examples import delete_downloads, download_file\nfrom matplotlib import image as mpimg\nfrom matplotlib import pyplot as plt"
      ]
    },
    {
      "cell_type": "markdown",
      "metadata": {},
      "source": [
        "Embed mechanical and set global variables\n\n"
      ]
    },
    {
      "cell_type": "code",
      "execution_count": null,
      "metadata": {
        "collapsed": false
      },
      "outputs": [],
      "source": [
        "config = AddinConfiguration(\"Mechanical\")\n# config = AddinConfiguration(\"WorkBench\")\nconfig.no_act_addins = True\napp = App(config=config)\napp.update_globals(globals())\nprint(app)\n\ncwd = os.path.join(os.getcwd(), \"out\")\n\n\ndef display_image(image_name):\n    plt.figure(figsize=(16, 9))\n    plt.imshow(mpimg.imread(os.path.join(cwd, image_name)))\n    plt.xticks([])\n    plt.yticks([])\n    plt.axis(\"off\")\n    plt.show()"
      ]
    },
    {
      "cell_type": "markdown",
      "metadata": {},
      "source": [
        "## Configure graphics for image export\n\n"
      ]
    },
    {
      "cell_type": "code",
      "execution_count": null,
      "metadata": {
        "collapsed": false
      },
      "outputs": [],
      "source": [
        "Graphics.Camera.SetSpecificViewOrientation(ViewOrientationType.Iso)\nGraphics.Camera.SetFit()\nimage_export_format = GraphicsImageExportFormat.PNG\nsettings_720p = Ansys.Mechanical.Graphics.GraphicsImageExportSettings()\nsettings_720p.Resolution = GraphicsResolutionType.EnhancedResolution\nsettings_720p.Background = GraphicsBackgroundType.White\nsettings_720p.Width = 1280\nsettings_720p.Height = 720\nsettings_720p.CurrentGraphicsDisplay = False\nGraphics.Camera.Rotate(180, CameraAxisType.ScreenY)"
      ]
    },
    {
      "cell_type": "markdown",
      "metadata": {},
      "source": [
        "## Download and open MECHDAT file\nOpen the mechdat file\n\n"
      ]
    },
    {
      "cell_type": "code",
      "execution_count": null,
      "metadata": {
        "collapsed": false
      },
      "outputs": [],
      "source": [
        "mechdat_filepath = download_file(\n    \"Cooled_Turbine_Blade_Meshed.mechdat\", \"pymechanical\", \"embedding\"\n)\napp.open(mechdat_filepath)\n\napp.plot()"
      ]
    },
    {
      "cell_type": "markdown",
      "metadata": {},
      "source": [
        "## Define Unit System\nSpecify unit system\n\n"
      ]
    },
    {
      "cell_type": "code",
      "execution_count": null,
      "metadata": {
        "collapsed": false
      },
      "outputs": [],
      "source": [
        "ExtAPI.Application.ActiveUnitSystem = MechanicalUnitSystem.StandardMKS\nExtAPI.Application.ActiveMetricTemperatureUnit = MetricTemperatureUnitType.Kelvin"
      ]
    },
    {
      "cell_type": "markdown",
      "metadata": {},
      "source": [
        "## Define python variables\nStore python variables\n\n"
      ]
    },
    {
      "cell_type": "code",
      "execution_count": null,
      "metadata": {
        "collapsed": false
      },
      "outputs": [],
      "source": [
        "GEOM = Model.Geometry\nCS_GRP = Model.CoordinateSystems\nMSH = Model.Mesh"
      ]
    },
    {
      "cell_type": "markdown",
      "metadata": {},
      "source": [
        "## Define Named Selections\nSpecify variables for named selection objects\n\n"
      ]
    },
    {
      "cell_type": "code",
      "execution_count": null,
      "metadata": {
        "collapsed": false
      },
      "outputs": [],
      "source": [
        "NS_Passage1 = [\n    x\n    for x in Model.GetChildren[Ansys.ACT.Automation.Mechanical.NamedSelection](True)\n    if x.Name == \"Passage 1\"\n][0]\nNS_Passage2 = [\n    x\n    for x in Model.GetChildren[Ansys.ACT.Automation.Mechanical.NamedSelection](True)\n    if x.Name == \"Passage 2\"\n][0]\nNS_Passage3 = [\n    x\n    for x in Model.GetChildren[Ansys.ACT.Automation.Mechanical.NamedSelection](True)\n    if x.Name == \"Passage 3\"\n][0]\nNS_Passage4 = [\n    x\n    for x in Model.GetChildren[Ansys.ACT.Automation.Mechanical.NamedSelection](True)\n    if x.Name == \"Passage 4\"\n][0]\nNS_Passage5 = [\n    x\n    for x in Model.GetChildren[Ansys.ACT.Automation.Mechanical.NamedSelection](True)\n    if x.Name == \"Passage 5\"\n][0]\nNS_Passage6 = [\n    x\n    for x in Model.GetChildren[Ansys.ACT.Automation.Mechanical.NamedSelection](True)\n    if x.Name == \"Passage 6\"\n][0]\nNS_Passage7 = [\n    x\n    for x in Model.GetChildren[Ansys.ACT.Automation.Mechanical.NamedSelection](True)\n    if x.Name == \"Passage 7\"\n][0]\nNS_Passage8 = [\n    x\n    for x in Model.GetChildren[Ansys.ACT.Automation.Mechanical.NamedSelection](True)\n    if x.Name == \"Passage 8\"\n][0]\nNS_Passage9 = [\n    x\n    for x in Model.GetChildren[Ansys.ACT.Automation.Mechanical.NamedSelection](True)\n    if x.Name == \"Passage 9\"\n][0]\nNS_Passage10 = [\n    x\n    for x in Model.GetChildren[Ansys.ACT.Automation.Mechanical.NamedSelection](True)\n    if x.Name == \"Passage 10\"\n][0]\nNS_Hole1 = [\n    x\n    for x in Model.GetChildren[Ansys.ACT.Automation.Mechanical.NamedSelection](True)\n    if x.Name == \"Hole 1\"\n][0]\nNS_Hole2 = [\n    x\n    for x in Model.GetChildren[Ansys.ACT.Automation.Mechanical.NamedSelection](True)\n    if x.Name == \"Hole 2\"\n][0]\nNS_Hole3 = [\n    x\n    for x in Model.GetChildren[Ansys.ACT.Automation.Mechanical.NamedSelection](True)\n    if x.Name == \"Hole 3\"\n][0]\nNS_Hole4 = [\n    x\n    for x in Model.GetChildren[Ansys.ACT.Automation.Mechanical.NamedSelection](True)\n    if x.Name == \"Hole 4\"\n][0]\nNS_Hole5 = [\n    x\n    for x in Model.GetChildren[Ansys.ACT.Automation.Mechanical.NamedSelection](True)\n    if x.Name == \"Hole 5\"\n][0]\nNS_Hole6 = [\n    x\n    for x in Model.GetChildren[Ansys.ACT.Automation.Mechanical.NamedSelection](True)\n    if x.Name == \"Hole 6\"\n][0]\nNS_Hole7 = [\n    x\n    for x in Model.GetChildren[Ansys.ACT.Automation.Mechanical.NamedSelection](True)\n    if x.Name == \"Hole 7\"\n][0]\nNS_Hole8 = [\n    x\n    for x in Model.GetChildren[Ansys.ACT.Automation.Mechanical.NamedSelection](True)\n    if x.Name == \"Hole 8\"\n][0]\nNS_Hole9 = [\n    x\n    for x in Model.GetChildren[Ansys.ACT.Automation.Mechanical.NamedSelection](True)\n    if x.Name == \"Hole 9\"\n][0]\nNS_Hole10 = [\n    x\n    for x in Model.GetChildren[Ansys.ACT.Automation.Mechanical.NamedSelection](True)\n    if x.Name == \"Hole 10\"\n][0]\nNS_Inlet1 = [\n    x\n    for x in Model.GetChildren[Ansys.ACT.Automation.Mechanical.NamedSelection](True)\n    if x.Name == \"Inlet 1\"\n][0]\nNS_Inlet2 = [\n    x\n    for x in Model.GetChildren[Ansys.ACT.Automation.Mechanical.NamedSelection](True)\n    if x.Name == \"Inlet 2\"\n][0]\nNS_Inlet3 = [\n    x\n    for x in Model.GetChildren[Ansys.ACT.Automation.Mechanical.NamedSelection](True)\n    if x.Name == \"Inlet 3\"\n][0]\nNS_Inlet4 = [\n    x\n    for x in Model.GetChildren[Ansys.ACT.Automation.Mechanical.NamedSelection](True)\n    if x.Name == \"Inlet 4\"\n][0]\nNS_Inlet5 = [\n    x\n    for x in Model.GetChildren[Ansys.ACT.Automation.Mechanical.NamedSelection](True)\n    if x.Name == \"Inlet 5\"\n][0]\nNS_Inlet6 = [\n    x\n    for x in Model.GetChildren[Ansys.ACT.Automation.Mechanical.NamedSelection](True)\n    if x.Name == \"Inlet 6\"\n][0]\nNS_Inlet7 = [\n    x\n    for x in Model.GetChildren[Ansys.ACT.Automation.Mechanical.NamedSelection](True)\n    if x.Name == \"Inlet 7\"\n][0]\nNS_Inlet8 = [\n    x\n    for x in Model.GetChildren[Ansys.ACT.Automation.Mechanical.NamedSelection](True)\n    if x.Name == \"Inlet 8\"\n][0]\nNS_Inlet9 = [\n    x\n    for x in Model.GetChildren[Ansys.ACT.Automation.Mechanical.NamedSelection](True)\n    if x.Name == \"Inlet 9\"\n][0]\nNS_Inlet10 = [\n    x\n    for x in Model.GetChildren[Ansys.ACT.Automation.Mechanical.NamedSelection](True)\n    if x.Name == \"Inlet 10\"\n][0]\nNS_Path1 = [\n    x\n    for x in Model.GetChildren[Ansys.ACT.Automation.Mechanical.NamedSelection](True)\n    if x.Name == \"Path1\"\n][0]\nNS_Path2 = [\n    x\n    for x in Model.GetChildren[Ansys.ACT.Automation.Mechanical.NamedSelection](True)\n    if x.Name == \"Path2\"\n][0]\nNS_Faces4 = [\n    x\n    for x in Model.GetChildren[Ansys.ACT.Automation.Mechanical.NamedSelection](True)\n    if x.Name == \"Faces4\"\n][0]\nNS_Face1 = [\n    x\n    for x in Model.GetChildren[Ansys.ACT.Automation.Mechanical.NamedSelection](True)\n    if x.Name == \"Face1\"\n][0]\nNS_Face2 = [\n    x\n    for x in Model.GetChildren[Ansys.ACT.Automation.Mechanical.NamedSelection](True)\n    if x.Name == \"Face2\"\n][0]\nNS_Body1 = [\n    x\n    for x in Model.GetChildren[Ansys.ACT.Automation.Mechanical.NamedSelection](True)\n    if x.Name == \"Body1\"\n][0]\nNS_Bodies10 = [\n    x\n    for x in Model.GetChildren[Ansys.ACT.Automation.Mechanical.NamedSelection](True)\n    if x.Name == \"Bodies10\"\n][0]"
      ]
    },
    {
      "cell_type": "markdown",
      "metadata": {},
      "source": [
        "## Material Assignment\nAssign materials to blade and fluid bodies and model type for line bodies\n\n"
      ]
    },
    {
      "cell_type": "code",
      "execution_count": null,
      "metadata": {
        "collapsed": false
      },
      "outputs": [],
      "source": [
        "GEOM.Children[0].Material = \"Blade\"\nfor i in range(1, 11):\n    GEOM.Children[i].Material = \"Fluid\"\n    GEOM.Children[i].Children[0].ModelType = PrototypeModelType.ModelPhysicsTypeFluid\n    GEOM.Children[i].Children[\n        0\n    ].FluidDiscretization = FluidDiscretizationType.FluidUpwindExponential"
      ]
    },
    {
      "cell_type": "markdown",
      "metadata": {},
      "source": [
        "## Define coordinate systems and paths\n\n"
      ]
    },
    {
      "cell_type": "code",
      "execution_count": null,
      "metadata": {
        "collapsed": false
      },
      "outputs": [],
      "source": [
        "LCS01 = CS_GRP.AddCoordinateSystem()\nLCS01.OriginLocation = NS_Path1\n\nLCS02 = CS_GRP.AddCoordinateSystem()\nLCS02.OriginLocation = NS_Path2\n\nCONST_GEOM = Model.AddConstructionGeometry()\nPATH01 = CONST_GEOM.AddPath()\nPATH01.PathType = PathScopingType.Edge\nPATH01.Location = NS_Passage1\n\nPATH02 = CONST_GEOM.AddPath()\nPATH02.PathType = PathScopingType.Points\nPATH02.StartCoordinateSystem = LCS01\nPATH02.EndCoordinateSystem = LCS02"
      ]
    },
    {
      "cell_type": "markdown",
      "metadata": {},
      "source": [
        "## Define Analysis\nAdd Steady-state thermal analysis\n\n"
      ]
    },
    {
      "cell_type": "code",
      "execution_count": null,
      "metadata": {
        "collapsed": false
      },
      "outputs": [],
      "source": [
        "STAT_THERM = Model.AddSteadyStateThermalAnalysis()\nSTAT_THERM_SOLN = STAT_THERM.Solution"
      ]
    },
    {
      "cell_type": "markdown",
      "metadata": {},
      "source": [
        "## Define Loads and Boundary Conditions\nSetup loads and supports in steady-state thermal analysis\n\n"
      ]
    },
    {
      "cell_type": "code",
      "execution_count": null,
      "metadata": {
        "collapsed": false
      },
      "outputs": [],
      "source": [
        "CONV01 = STAT_THERM.AddConvection()\nCONV01.Location = NS_Hole1\nCONV01.FilmCoefficient.Output.DiscreteValues = [Quantity(\"295430 [W m^-1 m^-1 K^-1]\")]\nCONV01.HasFluidFlow = True\nCONV01.FluidFlowSelection = NS_Passage1\n\nCONV02 = STAT_THERM.AddConvection()\nCONV02.Location = NS_Hole2\nCONV02.FilmCoefficient.Output.DiscreteValues = [Quantity(\"296290 [W m^-1 m^-1 K^-1]\")]\nCONV02.HasFluidFlow = True\nCONV02.FluidFlowSelection = NS_Passage2\n\nCONV03 = STAT_THERM.AddConvection()\nCONV03.Location = NS_Hole3\nCONV03.FilmCoefficient.Output.DiscreteValues = [Quantity(\"300760 [W m^-1 m^-1 K^-1]\")]\nCONV03.HasFluidFlow = True\nCONV03.FluidFlowSelection = NS_Passage3\n\nCONV04 = STAT_THERM.AddConvection()\nCONV04.Location = NS_Hole4\nCONV04.FilmCoefficient.Output.DiscreteValues = [Quantity(\"314160 [W m^-1 m^-1 K^-1]\")]\nCONV04.HasFluidFlow = True\nCONV04.FluidFlowSelection = NS_Passage4\n\nCONV05 = STAT_THERM.AddConvection()\nCONV05.Location = NS_Hole5\nCONV05.FilmCoefficient.Output.DiscreteValues = [Quantity(\"314950 [W m^-1 m^-1 K^-1]\")]\nCONV05.HasFluidFlow = True\nCONV05.FluidFlowSelection = NS_Passage5\n\nCONV06 = STAT_THERM.AddConvection()\nCONV06.Location = NS_Hole6\nCONV06.FilmCoefficient.Output.DiscreteValues = [Quantity(\"301990 [W m^-1 m^-1 K^-1]\")]\nCONV06.HasFluidFlow = True\nCONV06.FluidFlowSelection = NS_Passage6\n\nCONV07 = STAT_THERM.AddConvection()\nCONV07.Location = NS_Hole7\nCONV07.FilmCoefficient.Output.DiscreteValues = [Quantity(\"302470 [W m^-1 m^-1 K^-1]\")]\nCONV07.HasFluidFlow = True\nCONV07.FluidFlowSelection = NS_Passage7\n\nCONV08 = STAT_THERM.AddConvection()\nCONV08.Location = NS_Hole8\nCONV08.FilmCoefficient.Output.DiscreteValues = [Quantity(\"443430 [W m^-1 m^-1 K^-1]\")]\nCONV08.HasFluidFlow = True\nCONV08.FluidFlowSelection = NS_Passage8\n\nCONV09 = STAT_THERM.AddConvection()\nCONV09.Location = NS_Hole9\nCONV09.FilmCoefficient.Output.DiscreteValues = [Quantity(\"285270 [W m^-1 m^-1 K^-1]\")]\nCONV09.HasFluidFlow = True\nCONV09.FluidFlowSelection = NS_Passage9\n\nCONV010 = STAT_THERM.AddConvection()\nCONV010.Location = NS_Hole10\nCONV010.FilmCoefficient.Output.DiscreteValues = [Quantity(\"895860 [W m^-1 m^-1 K^-1]\")]\nCONV010.HasFluidFlow = True\nCONV010.FluidFlowSelection = NS_Passage10\n\nMFLOW_RT01 = STAT_THERM.AddMassFlowRate()\nMFLOW_RT01.Location = NS_Passage1\nMFLOW_RT01.Magnitude.Output.DiscreteValues = [\n    Quantity(\"0[kg sec^-1]\"),\n    Quantity(\"-0.0228[kg sec^-1]\"),\n]\n\nMFLOW_RT02 = STAT_THERM.AddMassFlowRate()\nMFLOW_RT02.Location = NS_Passage2\nMFLOW_RT02.Magnitude.Output.DiscreteValues = [\n    Quantity(\"0[kg sec^-1]\"),\n    Quantity(\"-0.0239[kg sec^-1]\"),\n]\n\nMFLOW_RT03 = STAT_THERM.AddMassFlowRate()\nMFLOW_RT03.Location = NS_Passage3\nMFLOW_RT03.Magnitude.Output.DiscreteValues = [\n    Quantity(\"0[kg sec^-1]\"),\n    Quantity(\"-0.0228[kg sec^-1]\"),\n]\n\nMFLOW_RT04 = STAT_THERM.AddMassFlowRate()\nMFLOW_RT04.Location = NS_Passage4\nMFLOW_RT04.Magnitude.Output.DiscreteValues = [\n    Quantity(\"0[kg sec^-1]\"),\n    Quantity(\"-0.0243[kg sec^-1]\"),\n]\n\nMFLOW_RT05 = STAT_THERM.AddMassFlowRate()\nMFLOW_RT05.Location = NS_Passage5\nMFLOW_RT05.Magnitude.Output.DiscreteValues = [\n    Quantity(\"0[kg sec^-1]\"),\n    Quantity(\"-0.0239[kg sec^-1]\"),\n]\n\nMFLOW_RT06 = STAT_THERM.AddMassFlowRate()\nMFLOW_RT06.Location = NS_Passage6\nMFLOW_RT06.Magnitude.Output.DiscreteValues = [\n    Quantity(\"0[kg sec^-1]\"),\n    Quantity(\"-0.0242[kg sec^-1]\"),\n]\n\nMFLOW_RT07 = STAT_THERM.AddMassFlowRate()\nMFLOW_RT07.Location = NS_Passage7\nMFLOW_RT07.Magnitude.Output.DiscreteValues = [\n    Quantity(\"0[kg sec^-1]\"),\n    Quantity(\"-0.0232[kg sec^-1]\"),\n]\n\nMFLOW_RT08 = STAT_THERM.AddMassFlowRate()\nMFLOW_RT08.Location = NS_Passage8\nMFLOW_RT08.Magnitude.Output.DiscreteValues = [\n    Quantity(\"0[kg sec^-1]\"),\n    Quantity(\"-0.00799[kg sec^-1]\"),\n]\n\nMFLOW_RT09 = STAT_THERM.AddMassFlowRate()\nMFLOW_RT09.Location = NS_Passage9\nMFLOW_RT09.Magnitude.Output.DiscreteValues = [\n    Quantity(\"0[kg sec^-1]\"),\n    Quantity(\"-0.00499[kg sec^-1]\"),\n]\n\nMFLOW_RT10 = STAT_THERM.AddMassFlowRate()\nMFLOW_RT10.Location = NS_Passage10\nMFLOW_RT10.Magnitude.Output.DiscreteValues = [\n    Quantity(\"0[kg sec^-1]\"),\n    Quantity(\"-0.00253[kg sec^-1]\"),\n]\n\nTEMP01 = STAT_THERM.AddTemperature()\nTEMP01.Location = NS_Inlet1\nTEMP01.Magnitude.Output.DiscreteValues = [Quantity(\"0[K]\"), Quantity(\"348.83[K]\")]\n\nTEMP02 = STAT_THERM.AddTemperature()\nTEMP02.Location = NS_Inlet2\nTEMP02.Magnitude.Output.DiscreteValues = [Quantity(\"0[K]\"), Quantity(\"349.32[K]\")]\n\nTEMP03 = STAT_THERM.AddTemperature()\nTEMP03.Location = NS_Inlet3\nTEMP03.Magnitude.Output.DiscreteValues = [Quantity(\"0[K]\"), Quantity(\"339.49[K]\")]\n\nTEMP04 = STAT_THERM.AddTemperature()\nTEMP04.Location = NS_Inlet4\nTEMP04.Magnitude.Output.DiscreteValues = [Quantity(\"0[K]\"), Quantity(\"342.3[K]\")]\n\nTEMP05 = STAT_THERM.AddTemperature()\nTEMP05.Location = NS_Inlet5\nTEMP05.Magnitude.Output.DiscreteValues = [Quantity(\"0[K]\"), Quantity(\"333.99[K]\")]\n\nTEMP06 = STAT_THERM.AddTemperature()\nTEMP06.Location = NS_Inlet6\nTEMP06.Magnitude.Output.DiscreteValues = [Quantity(\"0[K]\"), Quantity(\"364.95[K]\")]\n\nTEMP07 = STAT_THERM.AddTemperature()\nTEMP07.Location = NS_Inlet7\nTEMP07.Magnitude.Output.DiscreteValues = [Quantity(\"0[K]\"), Quantity(\"343.37[K]\")]\n\nTEMP08 = STAT_THERM.AddTemperature()\nTEMP08.Location = NS_Inlet8\nTEMP08.Magnitude.Output.DiscreteValues = [Quantity(\"0[K]\"), Quantity(\"365.41[K]\")]\n\nTEMP09 = STAT_THERM.AddTemperature()\nTEMP09.Location = NS_Inlet9\nTEMP09.Magnitude.Output.DiscreteValues = [Quantity(\"0[K]\"), Quantity(\"408.78[K]\")]\n\nTEMP10 = STAT_THERM.AddTemperature()\nTEMP10.Location = NS_Inlet10\nTEMP10.Magnitude.Output.DiscreteValues = [Quantity(\"0[K]\"), Quantity(\"453.18[K]\")]\n\nTEMP11 = STAT_THERM.AddTemperature()\nTEMP11.Location = NS_Faces4\nTEMP11.Magnitude.Output.DiscreteValues = [Quantity(\"0[K]\"), Quantity(\"568[K]\")]"
      ]
    },
    {
      "cell_type": "markdown",
      "metadata": {},
      "source": [
        "## Insert results\n\n"
      ]
    },
    {
      "cell_type": "code",
      "execution_count": null,
      "metadata": {
        "collapsed": false
      },
      "outputs": [],
      "source": [
        "TEMP_RST01 = STAT_THERM_SOLN.AddTemperature()\nTEMP_RST01.Location = NS_Body1\nTEMP_RST02 = STAT_THERM_SOLN.AddTemperature()\nTEMP_RST02.Location = NS_Bodies10\nTEMP_RST03 = STAT_THERM_SOLN.AddTemperature()\nTEMP_RST03.ScopingMethod = GeometryDefineByType.ResultFileItem\nTEMP_RST03.ItemType = ResultFileItemType.ElementNameIDs\nTEMP_RST03.SolverComponentIDs = \"SURF152\"\nTEMP_RST04 = STAT_THERM_SOLN.AddTemperature()\nTEMP_RST04.Location = PATH01"
      ]
    },
    {
      "cell_type": "markdown",
      "metadata": {},
      "source": [
        "## Solve\n\n"
      ]
    },
    {
      "cell_type": "code",
      "execution_count": null,
      "metadata": {
        "collapsed": false
      },
      "outputs": [],
      "source": [
        "STAT_THERM_SOLN.Solve(True)\nSTAT_THERM_SS = STAT_THERM_SOLN.Status"
      ]
    },
    {
      "cell_type": "markdown",
      "metadata": {},
      "source": [
        "## Messages\n\n"
      ]
    },
    {
      "cell_type": "code",
      "execution_count": null,
      "metadata": {
        "collapsed": false
      },
      "outputs": [],
      "source": [
        "Messages = ExtAPI.Application.Messages\nif Messages:\n    for message in Messages:\n        print(f\"[{message.Severity}] {message.DisplayString}\")\nelse:\n    print(\"No [Info]/[Warning]/[Error] Messages\")"
      ]
    },
    {
      "cell_type": "markdown",
      "metadata": {},
      "source": [
        "## Results\nTemperature Plots\n\n"
      ]
    },
    {
      "cell_type": "code",
      "execution_count": null,
      "metadata": {
        "collapsed": false
      },
      "outputs": [],
      "source": [
        "Tree.Activate([TEMP_RST01])\nGraphics.Camera.SetFit()\nGraphics.ExportImage(\n    os.path.join(cwd, \"temperature_turbine.png\"), image_export_format, settings_720p\n)\ndisplay_image(\"temperature_turbine.png\")"
      ]
    },
    {
      "cell_type": "markdown",
      "metadata": {},
      "source": [
        "## Define Analysis\nAdd static structural analysis\n\n"
      ]
    },
    {
      "cell_type": "code",
      "execution_count": null,
      "metadata": {
        "collapsed": false
      },
      "outputs": [],
      "source": [
        "STAT_STRUC = Model.AddStaticStructuralAnalysis()\nSTAT_STRUC.ImportLoad(Model.Analyses[0])\nSTAT_STRUC_SOLN = STAT_STRUC.Solution"
      ]
    },
    {
      "cell_type": "markdown",
      "metadata": {},
      "source": [
        "## Define Loads and Boundary Conditions\nSetup loads and supports in static analysis\n\n"
      ]
    },
    {
      "cell_type": "code",
      "execution_count": null,
      "metadata": {
        "collapsed": false
      },
      "outputs": [],
      "source": [
        "FIX_SUP01 = STAT_STRUC.AddFixedSupport()\nFIX_SUP01.Location = NS_Face1\n\nFIX_SUP02 = STAT_STRUC.AddFixedSupport()\nFIX_SUP02.Location = NS_Face2"
      ]
    },
    {
      "cell_type": "markdown",
      "metadata": {},
      "source": [
        "## Insert results\n\n"
      ]
    },
    {
      "cell_type": "code",
      "execution_count": null,
      "metadata": {
        "collapsed": false
      },
      "outputs": [],
      "source": [
        "EQV_STRS01 = STAT_STRUC_SOLN.AddEquivalentStress()\nEQV_STRS01.Location = NS_Body1"
      ]
    },
    {
      "cell_type": "markdown",
      "metadata": {},
      "source": [
        "## Solve\n\n"
      ]
    },
    {
      "cell_type": "code",
      "execution_count": null,
      "metadata": {
        "collapsed": false
      },
      "outputs": [],
      "source": [
        "STAT_STRUC_SOLN.Solve(True)\nSTAT_STRUC_SS = STAT_STRUC_SOLN.Status"
      ]
    },
    {
      "cell_type": "markdown",
      "metadata": {},
      "source": [
        "## Messages\n\n"
      ]
    },
    {
      "cell_type": "code",
      "execution_count": null,
      "metadata": {
        "collapsed": false
      },
      "outputs": [],
      "source": [
        "Messages = ExtAPI.Application.Messages\nif Messages:\n    for message in Messages:\n        print(f\"[{message.Severity}] {message.DisplayString}\")\nelse:\n    print(\"No [Info]/[Warning]/[Error] Messages\")"
      ]
    },
    {
      "cell_type": "markdown",
      "metadata": {},
      "source": [
        "## Results\nEquivalent Stress Plots\n\n"
      ]
    },
    {
      "cell_type": "code",
      "execution_count": null,
      "metadata": {
        "collapsed": false
      },
      "outputs": [],
      "source": [
        "Tree.Activate([EQV_STRS01])\nGraphics.Camera.SetFit()\nGraphics.ExportImage(\n    os.path.join(cwd, \"equivalent_stess_turbine.png\"),\n    image_export_format,\n    settings_720p,\n)\ndisplay_image(\"equivalent_stess_turbine.png\")"
      ]
    },
    {
      "cell_type": "markdown",
      "metadata": {},
      "source": [
        "## Cleanup\nSave project\n\n"
      ]
    },
    {
      "cell_type": "code",
      "execution_count": null,
      "metadata": {
        "collapsed": false
      },
      "outputs": [],
      "source": [
        "app.save(os.path.join(cwd, \"cooled_turbine.mechdat\"))\napp.new()"
      ]
    },
    {
      "cell_type": "markdown",
      "metadata": {},
      "source": [
        "Delete example file\n\n"
      ]
    },
    {
      "cell_type": "code",
      "execution_count": null,
      "metadata": {
        "collapsed": false
      },
      "outputs": [],
      "source": [
        "delete_downloads()"
      ]
    }
  ],
  "metadata": {
    "kernelspec": {
      "display_name": "Python 3",
      "language": "python",
      "name": "python3"
    },
    "language_info": {
      "codemirror_mode": {
        "name": "ipython",
        "version": 3
      },
      "file_extension": ".py",
      "mimetype": "text/x-python",
      "name": "python",
      "nbconvert_exporter": "python",
      "pygments_lexer": "ipython3",
      "version": "3.12.12"
    }
  },
  "nbformat": 4,
  "nbformat_minor": 0
}